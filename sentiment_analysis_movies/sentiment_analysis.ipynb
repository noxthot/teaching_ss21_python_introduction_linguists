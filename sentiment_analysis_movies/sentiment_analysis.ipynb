{
 "cells": [
  {
   "cell_type": "markdown",
   "id": "424b57eb-9677-4820-8491-5be8a312f17d",
   "metadata": {},
   "source": [
    "### Aufgabe 1 - Daten laden"
   ]
  },
  {
   "cell_type": "code",
   "execution_count": 21,
   "id": "b3e40c0b-76dc-4d8d-93f2-a238bce907a1",
   "metadata": {},
   "outputs": [],
   "source": [
    "import urllib\n",
    "\n",
    "def getTextLower(url):\n",
    "    response = urllib.request.urlopen(url)\n",
    "    raw = response.read().decode('utf-8-sig')\n",
    "    raw_lowered = raw.lower().strip()\n",
    "    \n",
    "    return raw_lowered"
   ]
  },
  {
   "cell_type": "code",
   "execution_count": 22,
   "id": "4018f2cd-74ec-4575-aec8-2956a3e0ef09",
   "metadata": {},
   "outputs": [],
   "source": [
    "reviews = getTextLower('https://raw.githubusercontent.com/noxthot/deep-learning-v2-pytorch/master/sentiment-analysis-network/reviews.txt')"
   ]
  },
  {
   "cell_type": "code",
   "execution_count": 23,
   "id": "04356c9b-6dce-4793-9a2d-139751dc870a",
   "metadata": {},
   "outputs": [],
   "source": [
    "labels = getTextLower('https://raw.githubusercontent.com/noxthot/deep-learning-v2-pytorch/master/sentiment-analysis-network/labels.txt')"
   ]
  },
  {
   "cell_type": "code",
   "execution_count": 24,
   "id": "0a27b25e-810d-4c43-9a03-305e64af9d7a",
   "metadata": {},
   "outputs": [],
   "source": [
    "reviews_list = reviews.split('\\n') # Split nach jedem Zeilenumbruch\n",
    "labels_list = labels.split('\\n')"
   ]
  },
  {
   "cell_type": "code",
   "execution_count": 25,
   "id": "524005cd-c7ab-41f1-8a38-8615ef1652fe",
   "metadata": {},
   "outputs": [
    {
     "data": {
      "text/plain": [
       "25000"
      ]
     },
     "execution_count": 25,
     "metadata": {},
     "output_type": "execute_result"
    }
   ],
   "source": [
    "len(reviews_list)"
   ]
  },
  {
   "cell_type": "code",
   "execution_count": 26,
   "id": "8fb56285-d1ae-4bd1-a763-0d02c484ee79",
   "metadata": {},
   "outputs": [
    {
     "data": {
      "text/plain": [
       "25000"
      ]
     },
     "execution_count": 26,
     "metadata": {},
     "output_type": "execute_result"
    }
   ],
   "source": [
    "len(labels_list)"
   ]
  },
  {
   "cell_type": "markdown",
   "id": "9830fad1-5afa-42d0-a6e8-89286355ebb5",
   "metadata": {},
   "source": [
    "### Aufgabe 2 - Datenvorverarbeitung"
   ]
  },
  {
   "cell_type": "code",
   "execution_count": 27,
   "id": "7db48993-bd32-4da9-8310-3c2485906a9f",
   "metadata": {},
   "outputs": [
    {
     "name": "stdout",
     "output_type": "stream",
     "text": [
      "500. iteration of 25000\n",
      "1000. iteration of 25000\n",
      "1500. iteration of 25000\n",
      "2000. iteration of 25000\n",
      "2500. iteration of 25000\n",
      "3000. iteration of 25000\n",
      "3500. iteration of 25000\n",
      "4000. iteration of 25000\n",
      "4500. iteration of 25000\n",
      "5000. iteration of 25000\n",
      "5500. iteration of 25000\n",
      "6000. iteration of 25000\n",
      "6500. iteration of 25000\n",
      "7000. iteration of 25000\n",
      "7500. iteration of 25000\n",
      "8000. iteration of 25000\n",
      "8500. iteration of 25000\n",
      "9000. iteration of 25000\n",
      "9500. iteration of 25000\n",
      "10000. iteration of 25000\n",
      "10500. iteration of 25000\n",
      "11000. iteration of 25000\n",
      "11500. iteration of 25000\n",
      "12000. iteration of 25000\n",
      "12500. iteration of 25000\n",
      "13000. iteration of 25000\n",
      "13500. iteration of 25000\n",
      "14000. iteration of 25000\n",
      "14500. iteration of 25000\n",
      "15000. iteration of 25000\n",
      "15500. iteration of 25000\n",
      "16000. iteration of 25000\n",
      "16500. iteration of 25000\n",
      "17000. iteration of 25000\n",
      "17500. iteration of 25000\n",
      "18000. iteration of 25000\n",
      "18500. iteration of 25000\n",
      "19000. iteration of 25000\n",
      "19500. iteration of 25000\n",
      "20000. iteration of 25000\n",
      "20500. iteration of 25000\n",
      "21000. iteration of 25000\n",
      "21500. iteration of 25000\n",
      "22000. iteration of 25000\n",
      "22500. iteration of 25000\n",
      "23000. iteration of 25000\n",
      "23500. iteration of 25000\n",
      "24000. iteration of 25000\n",
      "24500. iteration of 25000\n",
      "25000. iteration of 25000\n"
     ]
    }
   ],
   "source": [
    "import collections\n",
    "from nltk.stem import PorterStemmer\n",
    "\n",
    "ps = PorterStemmer()\n",
    "\n",
    "cnt_positives = collections.Counter()\n",
    "cnt_total = collections.Counter()\n",
    "cnt = 0 # Diese Variable wird lediglich für eine Fortschriftsanzeige während der (langen) Ausführung dieser Codezelle verwendet.\n",
    "\n",
    "for review, label in zip(reviews_list, labels_list):\n",
    "    cnt += 1\n",
    "    \n",
    "    if cnt % 500 == 0: # Gib jede 500. Iteration eine Meldung am Bildschirm aus\n",
    "        print(f\"{cnt}. iteration of {len(reviews_list)}\")\n",
    "    \n",
    "    good_review = (label == 'positive')\n",
    "    \n",
    "    for word in review.split():\n",
    "        word_stemmed = ps.stem(word)        \n",
    "        cnt_total[word_stemmed] += 1\n",
    "        \n",
    "        if good_review:\n",
    "            cnt_positives[word_stemmed] += 1"
   ]
  },
  {
   "cell_type": "code",
   "execution_count": 28,
   "id": "561b036d-61f5-46cc-9503-f147abd5f12d",
   "metadata": {},
   "outputs": [
    {
     "data": {
      "text/plain": [
       "[('the', 336713),\n",
       " ('.', 327192),\n",
       " ('and', 164115),\n",
       " ('a', 163010),\n",
       " ('of', 145884),\n",
       " ('to', 135740),\n",
       " ('is', 107328),\n",
       " ('it', 104629),\n",
       " ('br', 101872),\n",
       " ('in', 94016)]"
      ]
     },
     "execution_count": 28,
     "metadata": {},
     "output_type": "execute_result"
    }
   ],
   "source": [
    "cnt_total.most_common(10)"
   ]
  },
  {
   "cell_type": "code",
   "execution_count": 29,
   "id": "42f1ea19-2889-499e-a240-0ec83467cf26",
   "metadata": {},
   "outputs": [
    {
     "data": {
      "text/plain": [
       "[('the', 173324),\n",
       " ('.', 159654),\n",
       " ('and', 89723),\n",
       " ('a', 83688),\n",
       " ('of', 76862),\n",
       " ('to', 66762),\n",
       " ('is', 57245),\n",
       " ('it', 52647),\n",
       " ('in', 50232),\n",
       " ('br', 49235)]"
      ]
     },
     "execution_count": 29,
     "metadata": {},
     "output_type": "execute_result"
    }
   ],
   "source": [
    "cnt_positives.most_common(10)"
   ]
  },
  {
   "cell_type": "markdown",
   "id": "2976c853-422a-4e86-9fd7-7e29f8bf1c7a",
   "metadata": {},
   "source": [
    "### Aufgabe 3 - Training"
   ]
  },
  {
   "cell_type": "code",
   "execution_count": 41,
   "id": "e4175c08-07b4-4550-88a5-06d88fde0159",
   "metadata": {},
   "outputs": [],
   "source": [
    "MIN_OCCURENCES = 50  # Minimum Vorkommnisse eines Wortstammes um als Trendwort berücksichtig werden zu können. Schützt uns vor seltenen Wörtern / Ausreißern.\n",
    "MIN_TRENDVAL = 0.3   # Der Absolutwert des Trendwerts muss diesen Wert überschreiten um berücksichtigt zu werden. Schützt uns bspw. vor Stopwords.\n",
    "\n",
    "trendwords = collections.Counter()\n",
    "\n",
    "for word_stemmed in cnt_total:\n",
    "    trendval = cnt_positives[word_stemmed] / cnt_total[word_stemmed]\n",
    "    trendval_trans = (trendval - 0.5) * 2\n",
    "    \n",
    "    if cnt_total[word_stemmed] >= MIN_OCCURENCES and abs(trendval_trans) > MIN_TRENDVAL:\n",
    "        trendwords[word_stemmed] = trendval_trans"
   ]
  },
  {
   "cell_type": "code",
   "execution_count": 42,
   "id": "de09e9e9-15fc-425d-b35e-1b76b3269c21",
   "metadata": {},
   "outputs": [
    {
     "data": {
      "text/plain": [
       "[('goldsworthi', 1.0),\n",
       " ('antwon', 1.0),\n",
       " ('gunga', 1.0),\n",
       " ('gypo', 1.0),\n",
       " ('flavia', 1.0),\n",
       " ('yokai', 1.0),\n",
       " ('din', 0.9761904761904763),\n",
       " ('edi', 0.9646017699115044),\n",
       " ('iturbi', 0.962962962962963),\n",
       " ('gundam', 0.9619047619047618),\n",
       " ('visconti', 0.9615384615384615),\n",
       " ('feinston', 0.96),\n",
       " ('capot', 0.9375),\n",
       " ('felix', 0.9338842975206612),\n",
       " ('deanna', 0.9310344827586208),\n",
       " ('hayworth', 0.9310344827586208),\n",
       " ('fido', 0.9285714285714286),\n",
       " ('vanc', 0.9259259259259258),\n",
       " ('sammo', 0.9259259259259258),\n",
       " ('adel', 0.9259259259259258)]"
      ]
     },
     "execution_count": 42,
     "metadata": {},
     "output_type": "execute_result"
    }
   ],
   "source": [
    "trendwords.most_common(20)"
   ]
  },
  {
   "cell_type": "code",
   "execution_count": 43,
   "id": "bcf11deb-c0a5-42a5-be4f-f37f00dbe7b4",
   "metadata": {},
   "outputs": [
    {
     "data": {
      "text/plain": [
       "[('boll', -0.9862068965517241),\n",
       " ('uwe', -0.9803921568627451),\n",
       " ('thunderbird', -0.974025974025974),\n",
       " ('beowulf', -0.9672131147540983),\n",
       " ('wayan', -0.9649122807017544),\n",
       " ('dahmer', -0.9636363636363636),\n",
       " ('gram', -0.9622641509433962),\n",
       " ('seagal', -0.9393939393939394),\n",
       " ('gamera', -0.9298245614035088),\n",
       " ('dreck', -0.9259259259259259),\n",
       " ('mst', -0.9),\n",
       " ('stinker', -0.8974358974358975),\n",
       " ('flimsi', -0.896551724137931),\n",
       " ('dilling', -0.8867924528301887),\n",
       " ('unwatch', -0.8833333333333333),\n",
       " ('unfunni', -0.8731343283582089),\n",
       " ('ugh', -0.8620689655172413),\n",
       " ('blah', -0.8571428571428572),\n",
       " ('yawn', -0.851063829787234),\n",
       " ('turd', -0.8484848484848485)]"
      ]
     },
     "execution_count": 43,
     "metadata": {},
     "output_type": "execute_result"
    }
   ],
   "source": [
    "trendwords.most_common()[::-1][:20]"
   ]
  },
  {
   "cell_type": "markdown",
   "id": "f734ebf6-5d72-47d9-b782-d2637b9665eb",
   "metadata": {},
   "source": [
    "### Aufgabe 4 - Test"
   ]
  },
  {
   "cell_type": "code",
   "execution_count": 50,
   "id": "5ded24e6-cf74-4586-a035-79d2b04d4c25",
   "metadata": {},
   "outputs": [
    {
     "name": "stdin",
     "output_type": "stream",
     "text": [
      "INSERT YOUR REVIEW HERE (ENGLISH):  Best movie I've ever seen, though actors could perform better\n"
     ]
    },
    {
     "name": "stdout",
     "output_type": "stream",
     "text": [
      "Dein Review war POSITIV mit Trendwert 0.6681545449074817.\n"
     ]
    }
   ],
   "source": [
    "myReview = input(\"INSERT YOUR REVIEW HERE (ENGLISH): \")\n",
    "\n",
    "trendvals = 0\n",
    "\n",
    "for word in myReview.split():\n",
    "    word_stemmed = word.lower()\n",
    "    \n",
    "    trendvals += trendwords[word_stemmed]\n",
    "    \n",
    "if trendvals > 0:\n",
    "    print(f\"Dein Review war POSITIV mit Trendwert {trendvals}.\")\n",
    "else:\n",
    "    print(f\"Dein Review war NEGATIV mit Trendwert {trendvals}.\")"
   ]
  },
  {
   "cell_type": "code",
   "execution_count": 51,
   "id": "3e30c52e-1003-4ff2-9b77-fbafd9e9fe22",
   "metadata": {},
   "outputs": [
    {
     "name": "stdin",
     "output_type": "stream",
     "text": [
      "INSERT YOUR REVIEW HERE (ENGLISH):  Best movie I've ever seen, though actors could perform better\n"
     ]
    },
    {
     "name": "stdout",
     "output_type": "stream",
     "text": [
      "Dein Review war POSITIV mit Trendwert 0.33407727245374086 basierend auf 2 Trendwörtern.\n"
     ]
    }
   ],
   "source": [
    "# Alternative Implementierung mit mehr Aussagekraft:\n",
    "myReview = input(\"INSERT YOUR REVIEW HERE (ENGLISH): \")\n",
    "\n",
    "trendvals = 0\n",
    "cnt_trendwords = 0\n",
    "\n",
    "for word in myReview.split():\n",
    "    word_stemmed = word.lower()\n",
    "    \n",
    "    if trendwords[word_stemmed] != 0:\n",
    "        trendvals += trendwords[word_stemmed]\n",
    "        cnt_trendwords += 1\n",
    "    \n",
    "trendvals /= cnt_trendwords # Dividiere durch die Anzahl der vorhandenen Trendwörter. Dadurch liegt der Wert wieder im Intervall [-1, 1].\n",
    "\n",
    "CONFIDENCE_TRENDVAL = 0.3\n",
    "\n",
    "if trendvals > CONFIDENCE_TRENDVAL:\n",
    "    print(f\"Dein Review war POSITIV mit Trendwert {trendvals} basierend auf {cnt_trendwords} Trendwörtern.\")\n",
    "elif trendvals < CONFIDENCE_TRENDVAL:\n",
    "    print(f\"Dein Review war NEGATIV mit Trendwert {trendvals} basierend auf {cnt_trendwords} Trendwörtern.\")\n",
    "else:\n",
    "    print(f\"Dein Review kann nicht eindeutig eingeschätzt werden (Trendwert {trendvals} basierend auf {cnt_trendwords} Trendwörtern).\")"
   ]
  },
  {
   "cell_type": "code",
   "execution_count": null,
   "id": "aa34b85a-21fe-4b36-9ff1-5789884247bc",
   "metadata": {},
   "outputs": [],
   "source": []
  }
 ],
 "metadata": {
  "kernelspec": {
   "display_name": "Python 3",
   "language": "python",
   "name": "python3"
  },
  "language_info": {
   "codemirror_mode": {
    "name": "ipython",
    "version": 3
   },
   "file_extension": ".py",
   "mimetype": "text/x-python",
   "name": "python",
   "nbconvert_exporter": "python",
   "pygments_lexer": "ipython3",
   "version": "3.9.4"
  }
 },
 "nbformat": 4,
 "nbformat_minor": 5
}
