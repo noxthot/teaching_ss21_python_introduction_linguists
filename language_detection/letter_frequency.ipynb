{
 "cells": [
  {
   "cell_type": "markdown",
   "id": "676d251f-0f5d-4caa-ba21-a68a6bd950b7",
   "metadata": {},
   "source": [
    "### Aufgabe 1"
   ]
  },
  {
   "cell_type": "code",
   "execution_count": 4,
   "id": "372d7ad9-2880-4161-96da-f876eb13ec71",
   "metadata": {},
   "outputs": [],
   "source": [
    "import urllib"
   ]
  },
  {
   "cell_type": "code",
   "execution_count": 5,
   "id": "1da19e24-0cdb-4a53-a300-22b0dc04f668",
   "metadata": {},
   "outputs": [],
   "source": [
    "f = open(\"ordered_letters_languages.csv\", \"r\", encoding=\"utf-8\")\n",
    "\n",
    "header = f.readline().strip().split(',')\n",
    "\n",
    "languages = []\n",
    "\n",
    "for line in f.readlines():\n",
    "    lang, ordletters = line.strip().split(',')\n",
    "    languages.append([lang, ordletters])"
   ]
  },
  {
   "cell_type": "code",
   "execution_count": 6,
   "id": "28952b25-2fba-42a4-a035-8261f0c0924b",
   "metadata": {},
   "outputs": [
    {
     "data": {
      "text/plain": [
       "['language', 'ordered_letters']"
      ]
     },
     "execution_count": 6,
     "metadata": {},
     "output_type": "execute_result"
    }
   ],
   "source": [
    "header"
   ]
  },
  {
   "cell_type": "code",
   "execution_count": 7,
   "id": "68e04095-568b-41e4-b793-966da989dbe1",
   "metadata": {},
   "outputs": [
    {
     "data": {
      "text/plain": [
       "[['english_uk', 'etaoinsrhldcumfpgwybvkxjqz'],\n",
       " ['spanish', 'eaosrnidlctumpbgyívqóhfzjéáñxúüwk'],\n",
       " ['german', 'enisratdhulcgmobwfkzvüpäßjöyqx'],\n",
       " ['french', 'esaitnrulodcmpévqfbghjàxèyêzçôùâûîœwkïëüæñ'],\n",
       " ['italian', 'eaionlrtscdupmvghfbqzòàùìéèóykwxjô'],\n",
       " ['dutch', 'enatirodslghvkmubpwjczfxy'],\n",
       " ['greek', 'αοιετσνηυρπκμλωδγχθφβξζψ'],\n",
       " ['russian', 'oeaинтсвлркдмпуëягбзчйхжшюцщeф'],\n",
       " ['turkish', 'aeinrlıdkmuytsboüşzgçhğvcöpfjwxq'],\n",
       " ['polish', 'iaeoznscrwyłdkmtpujlgębąhżśóćńfźvqx'],\n",
       " ['esperanto', 'aieonlsrtkjudmpvgfbcĝĉŭzŝhĵĥwyxq'],\n",
       " ['swedish', 'eantrslidomgkvähfupåöbcjyxwzéq'],\n",
       " ['portuguese', 'aeosrinmdutlcphvqgfbãzçjáéxóõêôàyíèúo'],\n",
       " ['norwegian', 'erntsilakodgmvfupbhøjyaaæcwzx'],\n",
       " ['icelandic', 'anriestudhlgmkfhvoáthídjóbyæúöpéýcxwzq'],\n",
       " ['hungarian', 'eatlnskomzrigáéydbvhj'],\n",
       " ['slovak', 'aoesnitrvlkdmcupzyhjgfb'],\n",
       " ['finnish', 'enatrsildokgmvfaauphäcböjyxzw'],\n",
       " ['danish', 'enadtrslgiohmkvufbpøaejycéxqwèzüàóêçaaëä'],\n",
       " ['czech', 'oeantivlsrdkupímcházyjbřêéĉžýŝũgfúňwďóxť'],\n",
       " ['maori', 'aiketonuhrmwgp'],\n",
       " ['latin', 'eituasrnomcpldqbgvfhxyk'],\n",
       " ['irish', 'aihnretscoldgumbáfíéúópvjwykqz'],\n",
       " ['welsh', 'ayndreiloghwtfuscmbpâô'],\n",
       " ['gaelic', 'aihndercsgloutmbàfp'],\n",
       " ['japanese', '日一十二人大年会国三本長中五出事社市者月']]"
      ]
     },
     "execution_count": 7,
     "metadata": {},
     "output_type": "execute_result"
    }
   ],
   "source": [
    "languages"
   ]
  },
  {
   "cell_type": "markdown",
   "id": "4add1ae6-9bf5-4fee-bd96-c8ed11ac8846",
   "metadata": {},
   "source": [
    "### Aufgabe 2"
   ]
  },
  {
   "cell_type": "code",
   "execution_count": 8,
   "id": "ae6e77f9-4585-417c-acac-e1a05c1ae1ec",
   "metadata": {},
   "outputs": [],
   "source": [
    "def getGutenbergEbook(url):\n",
    "    response = urllib.request.urlopen(url)\n",
    "    raw = response.read().decode('utf-8-sig')\n",
    "\n",
    "    book_start = '*** START OF THE PROJECT GUTENBERG EBOOK'\n",
    "    book_end = '*** END OF THE PROJECT GUTENBERG'\n",
    "\n",
    "    if book_start == -1 or book_end == -1:\n",
    "        raise Exception(f\"Error! Can not find start or end of Gutenberg EBOOK\")\n",
    "\n",
    "    book_start_idx = raw.find(book_start) + len(book_start)\n",
    "    book_end_idx = raw.rfind(book_end)\n",
    "    \n",
    "    # -> Dieser Block dient lediglich der Ausgabe von Zusatzinfos am Bildschirm\n",
    "    firstlineendIdx = raw.find('\\n')\n",
    "    firstline = raw[:firstlineendIdx - 1]\n",
    "    # <- \n",
    "    \n",
    "    raw_stripped = raw[book_start_idx:book_end_idx].lower()\n",
    "    raw_stripped_only_alpha = [c for c in raw_stripped if c.isalpha()] # Get rid of spaces, linebreaks, numbers, ..\n",
    "    \n",
    "    print(f\"Parsed {firstline}: {len(raw_stripped.split())} words; {len(raw_stripped)} letters.\")\n",
    "    \n",
    "    # -> Dieser Block dient lediglich zur Ausgabe von Zusatzinfos am Bildschirm: Sanity Check   \n",
    "    raw_stripped_not_alpha = [c for c in raw_stripped if not c.isalpha()]\n",
    "    raw_stripped_not_alpha = \"\".join(set(raw_stripped_not_alpha))\n",
    "    \n",
    "    print(\"START - Following characters got removed:\")\n",
    "    print(raw_stripped_not_alpha)\n",
    "    print(\"END\")\n",
    "    # <-\n",
    "    \n",
    "    return raw_stripped_only_alpha"
   ]
  },
  {
   "cell_type": "code",
   "execution_count": 29,
   "id": "1bbe4a35-0028-49f9-b3cd-fe38cdb0e295",
   "metadata": {},
   "outputs": [],
   "source": [
    "#url = 'https://www.gutenberg.org/files/55/55-0.txt' # Wonderful Wizard Of Oz by Frank Baum\n",
    "#url = 'https://www.gutenberg.org/files/84/84-0.txt' # Frankenstein by Mary Wollstonecraft\n",
    "#url = 'https://www.gutenberg.org/files/2229/2229-0.txt' # Faust by Goethe\n",
    "#url = 'https://www.gutenberg.org/cache/epub/47804/pg47804.txt' # Die Räuber by Schiller\n",
    "#url = 'https://www.gutenberg.org/cache/epub/4791/pg4791.txt' # Voyage au Centre de la Terre by Jules Verne\n",
    "url = 'https://www.gutenberg.org/cache/epub/17489/pg17489.txt' # Les misérables Tome I: Fantine by Victor Hugo\n",
    "#url = 'https://www.gutenberg.org/files/996/996-0.txt' # Don Quixote by Miguel de Cervantes Saavedra (ENG Translation)\n",
    "#url = 'https://www.gutenberg.org/files/2000/2000-0.txt' # Don Quijote by Miguel de Cervantes Saavedra (spanish)"
   ]
  },
  {
   "cell_type": "code",
   "execution_count": 30,
   "id": "c34a3198-23a8-4f1c-b5f3-d152a8678e88",
   "metadata": {},
   "outputs": [
    {
     "name": "stdout",
     "output_type": "stream",
     "text": [
      "Parsed The Project Gutenberg EBook of Les misérables Tome I, by Victor Hugo: 113097 words; 692060 letters.\n",
      "START - Following characters got removed:\n",
      "'.9*63_])-?°\n",
      "0/2:71,#\"!%«$\n",
      "END\n"
     ]
    }
   ],
   "source": [
    "myBook = getGutenbergEbook(url)"
   ]
  },
  {
   "cell_type": "markdown",
   "id": "7984e1ba-3d4b-4354-a886-2176971ddf07",
   "metadata": {},
   "source": [
    "### Aufgabe 3"
   ]
  },
  {
   "cell_type": "code",
   "execution_count": 31,
   "id": "ccd9769d-1839-4544-9585-aa9e88a21a27",
   "metadata": {},
   "outputs": [],
   "source": [
    "import collections\n",
    "\n",
    "letterCounts = collections.Counter(myBook)"
   ]
  },
  {
   "cell_type": "code",
   "execution_count": 32,
   "id": "657b6783-4a47-425e-b8b9-ff223b94a443",
   "metadata": {},
   "outputs": [
    {
     "data": {
      "text/plain": [
       "[('e', 77522),\n",
       " ('a', 42892),\n",
       " ('i', 40423),\n",
       " ('t', 40267),\n",
       " ('s', 38393),\n",
       " ('n', 35703),\n",
       " ('r', 32983),\n",
       " ('u', 32552),\n",
       " ('l', 30685),\n",
       " ('o', 27311),\n",
       " ('d', 18262),\n",
       " ('c', 16149),\n",
       " ('m', 15799),\n",
       " ('p', 13783),\n",
       " ('v', 10285),\n",
       " ('é', 9851),\n",
       " ('q', 6637),\n",
       " ('f', 6244),\n",
       " ('h', 5622),\n",
       " ('b', 5242),\n",
       " ('g', 4908),\n",
       " ('j', 2972),\n",
       " ('à', 2795),\n",
       " ('x', 2102),\n",
       " ('y', 2051),\n",
       " ('è', 1702),\n",
       " ('ê', 1584),\n",
       " ('z', 964),\n",
       " ('â', 410),\n",
       " ('ç', 355),\n",
       " ('û', 335),\n",
       " ('ô', 290),\n",
       " ('ù', 285),\n",
       " ('w', 284),\n",
       " ('î', 276),\n",
       " ('k', 150),\n",
       " ('ï', 47),\n",
       " ('ë', 5),\n",
       " ('ü', 2),\n",
       " ('ñ', 2)]"
      ]
     },
     "execution_count": 32,
     "metadata": {},
     "output_type": "execute_result"
    }
   ],
   "source": [
    "letterCounts.most_common()"
   ]
  },
  {
   "cell_type": "markdown",
   "id": "a2e30760-9d82-4852-9a76-3fba8295cb81",
   "metadata": {},
   "source": [
    "### Aufgabe 4"
   ]
  },
  {
   "cell_type": "code",
   "execution_count": 33,
   "id": "91593cd2-6fd4-4635-aa6e-1a4f26bc1524",
   "metadata": {},
   "outputs": [],
   "source": [
    "NR_COMP_LETTERS = 12\n",
    "\n",
    "most_frequent_letters = \"\".join([c for c, _ in letterCounts.most_common()])\n",
    "most_frequent_letters = most_frequent_letters[:NR_COMP_LETTERS]"
   ]
  },
  {
   "cell_type": "markdown",
   "id": "f061918b-db28-4136-9038-7dd5cb5ec19b",
   "metadata": {},
   "source": [
    "### Aufgabe 5"
   ]
  },
  {
   "cell_type": "code",
   "execution_count": 34,
   "id": "be0677dd-03e1-4f3f-8d47-9be15d139e03",
   "metadata": {},
   "outputs": [],
   "source": [
    "import nltk\n",
    "from collections import Counter\n",
    "\n",
    "dist_to_language = Counter()\n",
    "\n",
    "for lang, ordletters in languages:\n",
    "    comp_ord_letters = ordletters[:NR_COMP_LETTERS]\n",
    "    dist_to_language[lang] = nltk.edit_distance(most_frequent_letters, comp_ord_letters)"
   ]
  },
  {
   "cell_type": "code",
   "execution_count": 35,
   "id": "dd0c5a9e-d4e2-4371-afc4-22cb820b433f",
   "metadata": {},
   "outputs": [
    {
     "data": {
      "text/plain": [
       "\u001b[0;31mSignature:\u001b[0m \u001b[0mnltk\u001b[0m\u001b[0;34m.\u001b[0m\u001b[0medit_distance\u001b[0m\u001b[0;34m(\u001b[0m\u001b[0ms1\u001b[0m\u001b[0;34m,\u001b[0m \u001b[0ms2\u001b[0m\u001b[0;34m,\u001b[0m \u001b[0msubstitution_cost\u001b[0m\u001b[0;34m=\u001b[0m\u001b[0;36m1\u001b[0m\u001b[0;34m,\u001b[0m \u001b[0mtranspositions\u001b[0m\u001b[0;34m=\u001b[0m\u001b[0;32mFalse\u001b[0m\u001b[0;34m)\u001b[0m\u001b[0;34m\u001b[0m\u001b[0;34m\u001b[0m\u001b[0m\n",
       "\u001b[0;31mDocstring:\u001b[0m\n",
       "Calculate the Levenshtein edit-distance between two strings.\n",
       "The edit distance is the number of characters that need to be\n",
       "substituted, inserted, or deleted, to transform s1 into s2.  For\n",
       "example, transforming \"rain\" to \"shine\" requires three steps,\n",
       "consisting of two substitutions and one insertion:\n",
       "\"rain\" -> \"sain\" -> \"shin\" -> \"shine\".  These operations could have\n",
       "been done in other orders, but at least three steps are needed.\n",
       "\n",
       "Allows specifying the cost of substitution edits (e.g., \"a\" -> \"b\"),\n",
       "because sometimes it makes sense to assign greater penalties to\n",
       "substitutions.\n",
       "\n",
       "This also optionally allows transposition edits (e.g., \"ab\" -> \"ba\"),\n",
       "though this is disabled by default.\n",
       "\n",
       ":param s1, s2: The strings to be analysed\n",
       ":param transpositions: Whether to allow transposition edits\n",
       ":type s1: str\n",
       ":type s2: str\n",
       ":type substitution_cost: int\n",
       ":type transpositions: bool\n",
       ":rtype int\n",
       "\u001b[0;31mFile:\u001b[0m      ~/anaconda3/envs/brennerarchiv/lib/python3.9/site-packages/nltk/metrics/distance.py\n",
       "\u001b[0;31mType:\u001b[0m      function\n"
      ]
     },
     "metadata": {},
     "output_type": "display_data"
    }
   ],
   "source": [
    "?nltk.edit_distance"
   ]
  },
  {
   "cell_type": "code",
   "execution_count": 36,
   "id": "9be36840-4ff2-44e0-89aa-2748853ba60a",
   "metadata": {},
   "outputs": [
    {
     "data": {
      "text/plain": [
       "[('french', 2),\n",
       " ('english_uk', 6),\n",
       " ('norwegian', 7),\n",
       " ('italian', 7),\n",
       " ('latin', 8),\n",
       " ('slovak', 8),\n",
       " ('swedish', 8),\n",
       " ('spanish', 8),\n",
       " ('irish', 9),\n",
       " ('maori', 9),\n",
       " ('czech', 9),\n",
       " ('danish', 9),\n",
       " ('finnish', 9),\n",
       " ('hungarian', 9),\n",
       " ('german', 9),\n",
       " ('gaelic', 10),\n",
       " ('welsh', 10),\n",
       " ('icelandic', 10),\n",
       " ('portuguese', 10),\n",
       " ('esperanto', 10),\n",
       " ('polish', 10),\n",
       " ('turkish', 10),\n",
       " ('dutch', 10),\n",
       " ('russian', 11),\n",
       " ('japanese', 12),\n",
       " ('greek', 12)]"
      ]
     },
     "execution_count": 36,
     "metadata": {},
     "output_type": "execute_result"
    }
   ],
   "source": [
    "dist_to_language.most_common()[::-1]"
   ]
  },
  {
   "cell_type": "code",
   "execution_count": 37,
   "id": "48d92621-201c-419b-b89f-e18cf4040ef4",
   "metadata": {},
   "outputs": [
    {
     "name": "stdout",
     "output_type": "stream",
     "text": [
      "Sprache des vorliegenden Buches: french\n"
     ]
    }
   ],
   "source": [
    "language_of_book = dist_to_language.most_common()[::-1][0][0]\n",
    "\n",
    "print(f\"Sprache des vorliegenden Buches: {language_of_book}\")"
   ]
  }
 ],
 "metadata": {
  "kernelspec": {
   "display_name": "Python 3",
   "language": "python",
   "name": "python3"
  },
  "language_info": {
   "codemirror_mode": {
    "name": "ipython",
    "version": 3
   },
   "file_extension": ".py",
   "mimetype": "text/x-python",
   "name": "python",
   "nbconvert_exporter": "python",
   "pygments_lexer": "ipython3",
   "version": "3.9.4"
  }
 },
 "nbformat": 4,
 "nbformat_minor": 5
}
