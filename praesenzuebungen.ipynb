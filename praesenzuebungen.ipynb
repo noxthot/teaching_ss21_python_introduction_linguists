{
 "cells": [
  {
   "cell_type": "markdown",
   "id": "cacf41c4-0bdf-469b-b094-52354dc91f3b",
   "metadata": {},
   "source": [
    "# pt2 Datentypen"
   ]
  },
  {
   "cell_type": "markdown",
   "id": "38af6fd0-acaf-416d-a47c-78336117982f",
   "metadata": {},
   "source": [
    "## Einfache Datentypen"
   ]
  },
  {
   "cell_type": "markdown",
   "id": "18a4aa3c-9e87-4f59-81fb-c4844f15013b",
   "metadata": {},
   "source": [
    "### Aufgabe 1"
   ]
  },
  {
   "cell_type": "code",
   "execution_count": 2,
   "id": "da5cb955-14a8-4d06-9002-5d142ade7e74",
   "metadata": {},
   "outputs": [
    {
     "name": "stdout",
     "output_type": "stream",
     "text": [
      "SpamSpamSpamSpamSpam\n"
     ]
    }
   ],
   "source": [
    "mytext = \"Spam\"\n",
    "print(mytext * 5)"
   ]
  },
  {
   "cell_type": "markdown",
   "id": "81addf14-7a19-4246-8bdb-37a8c28a4ac1",
   "metadata": {},
   "source": [
    "### Aufgabe 2"
   ]
  },
  {
   "cell_type": "code",
   "execution_count": 3,
   "id": "bf0ce10e-a5e9-4c4d-890b-4528424fdfa1",
   "metadata": {},
   "outputs": [
    {
     "name": "stdout",
     "output_type": "stream",
     "text": [
      "160 Fahrenheit entspricht 71 Celsius\n"
     ]
    }
   ],
   "source": [
    "fahrenheit = 160 # Perfekte Milchschaumtemperatur!\n",
    "\n",
    "celsius = (fahrenheit - 32) * 5 / 9\n",
    "\n",
    "print(f\"{fahrenheit} Fahrenheit entspricht {round(celsius)} Celsius\")"
   ]
  },
  {
   "cell_type": "markdown",
   "id": "ee8689d3-8b14-4ff9-9162-fd29f90b8227",
   "metadata": {},
   "source": [
    "### Aufgabe 3"
   ]
  },
  {
   "cell_type": "code",
   "execution_count": 4,
   "id": "ae3907ac-7d11-47d5-b35a-efd00c346498",
   "metadata": {},
   "outputs": [
    {
     "data": {
      "text/plain": [
       "False"
      ]
     },
     "execution_count": 4,
     "metadata": {},
     "output_type": "execute_result"
    }
   ],
   "source": [
    "not ((True or False) and (not False))"
   ]
  },
  {
   "cell_type": "markdown",
   "id": "cf4f79bd-27d2-4ed4-89fb-25de41a5bc19",
   "metadata": {},
   "source": [
    "## Zusammengesetzte Datentypen"
   ]
  },
  {
   "cell_type": "markdown",
   "id": "6e02ebd2-1b2a-4e00-983e-6836efd9415e",
   "metadata": {},
   "source": [
    "### Aufgabe 1"
   ]
  },
  {
   "cell_type": "code",
   "execution_count": 5,
   "id": "0df362f1-b6b9-4ed6-a461-53456a76f92a",
   "metadata": {},
   "outputs": [],
   "source": [
    "mylist = [1, 2, 1, 5, 3, 'a', 'Dienstag', 5]"
   ]
  },
  {
   "cell_type": "code",
   "execution_count": 6,
   "id": "73f1e55e-a8e6-495f-88b2-bf321d308968",
   "metadata": {},
   "outputs": [
    {
     "data": {
      "text/plain": [
       "8"
      ]
     },
     "execution_count": 6,
     "metadata": {},
     "output_type": "execute_result"
    }
   ],
   "source": [
    "len(mylist)"
   ]
  },
  {
   "cell_type": "code",
   "execution_count": 7,
   "id": "8d2e1af9-b1c8-49be-8514-944eed2cca1f",
   "metadata": {},
   "outputs": [
    {
     "data": {
      "text/plain": [
       "1"
      ]
     },
     "execution_count": 7,
     "metadata": {},
     "output_type": "execute_result"
    }
   ],
   "source": [
    "mylist.pop(2)"
   ]
  },
  {
   "cell_type": "code",
   "execution_count": 8,
   "id": "d96955da-ca76-4052-90fb-d48ea77eafda",
   "metadata": {},
   "outputs": [
    {
     "data": {
      "text/plain": [
       "\u001b[0;31mSignature:\u001b[0m \u001b[0mmylist\u001b[0m\u001b[0;34m.\u001b[0m\u001b[0mremove\u001b[0m\u001b[0;34m(\u001b[0m\u001b[0mvalue\u001b[0m\u001b[0;34m,\u001b[0m \u001b[0;34m/\u001b[0m\u001b[0;34m)\u001b[0m\u001b[0;34m\u001b[0m\u001b[0;34m\u001b[0m\u001b[0m\n",
       "\u001b[0;31mDocstring:\u001b[0m\n",
       "Remove first occurrence of value.\n",
       "\n",
       "Raises ValueError if the value is not present.\n",
       "\u001b[0;31mType:\u001b[0m      builtin_function_or_method\n"
      ]
     },
     "metadata": {},
     "output_type": "display_data"
    }
   ],
   "source": [
    "?mylist.remove"
   ]
  },
  {
   "cell_type": "code",
   "execution_count": 9,
   "id": "69b4689f-30d7-4553-aab1-92d90357464f",
   "metadata": {},
   "outputs": [],
   "source": [
    "mylist.remove(5)\n",
    "mylist.remove(5) # needs to be called twice because we had it in list twice"
   ]
  },
  {
   "cell_type": "markdown",
   "id": "9b21fa26-190d-4491-b8cb-af1301e38b78",
   "metadata": {},
   "source": [
    "### Aufgabe 2"
   ]
  },
  {
   "cell_type": "code",
   "execution_count": 10,
   "id": "a25a50db-d79f-4798-a120-eba6acdff081",
   "metadata": {},
   "outputs": [],
   "source": [
    "mylist = ['Hallo'] * 100"
   ]
  },
  {
   "cell_type": "code",
   "execution_count": 11,
   "id": "8dce6463-8e76-4903-be2d-9abd1159a7be",
   "metadata": {},
   "outputs": [],
   "source": [
    "mylist[49] = 5 # Counting starts at zero, so the 50. element is on position 49."
   ]
  },
  {
   "cell_type": "code",
   "execution_count": 12,
   "id": "927aecd2-45e6-48d5-af60-8879343ab243",
   "metadata": {},
   "outputs": [
    {
     "data": {
      "text/plain": [
       "['Hallo',\n",
       " 'Hallo',\n",
       " 'Hallo',\n",
       " 'Hallo',\n",
       " 'Hallo',\n",
       " 'Hallo',\n",
       " 'Hallo',\n",
       " 'Hallo',\n",
       " 'Hallo',\n",
       " 'Hallo',\n",
       " 'Hallo',\n",
       " 'Hallo',\n",
       " 'Hallo',\n",
       " 'Hallo',\n",
       " 'Hallo',\n",
       " 'Hallo',\n",
       " 'Hallo',\n",
       " 'Hallo',\n",
       " 'Hallo',\n",
       " 'Hallo',\n",
       " 'Hallo',\n",
       " 'Hallo',\n",
       " 'Hallo',\n",
       " 'Hallo',\n",
       " 'Hallo',\n",
       " 'Hallo',\n",
       " 'Hallo',\n",
       " 'Hallo',\n",
       " 'Hallo',\n",
       " 'Hallo',\n",
       " 'Hallo',\n",
       " 'Hallo',\n",
       " 'Hallo',\n",
       " 'Hallo',\n",
       " 'Hallo',\n",
       " 'Hallo',\n",
       " 'Hallo',\n",
       " 'Hallo',\n",
       " 'Hallo',\n",
       " 'Hallo',\n",
       " 'Hallo',\n",
       " 'Hallo',\n",
       " 'Hallo',\n",
       " 'Hallo',\n",
       " 'Hallo',\n",
       " 'Hallo',\n",
       " 'Hallo',\n",
       " 'Hallo',\n",
       " 'Hallo',\n",
       " 5,\n",
       " 'Hallo',\n",
       " 'Hallo',\n",
       " 'Hallo',\n",
       " 'Hallo',\n",
       " 'Hallo',\n",
       " 'Hallo',\n",
       " 'Hallo',\n",
       " 'Hallo',\n",
       " 'Hallo',\n",
       " 'Hallo',\n",
       " 'Hallo',\n",
       " 'Hallo',\n",
       " 'Hallo',\n",
       " 'Hallo',\n",
       " 'Hallo',\n",
       " 'Hallo',\n",
       " 'Hallo',\n",
       " 'Hallo',\n",
       " 'Hallo',\n",
       " 'Hallo',\n",
       " 'Hallo',\n",
       " 'Hallo',\n",
       " 'Hallo',\n",
       " 'Hallo',\n",
       " 'Hallo',\n",
       " 'Hallo',\n",
       " 'Hallo',\n",
       " 'Hallo',\n",
       " 'Hallo',\n",
       " 'Hallo',\n",
       " 'Hallo',\n",
       " 'Hallo',\n",
       " 'Hallo',\n",
       " 'Hallo',\n",
       " 'Hallo',\n",
       " 'Hallo',\n",
       " 'Hallo',\n",
       " 'Hallo',\n",
       " 'Hallo',\n",
       " 'Hallo',\n",
       " 'Hallo',\n",
       " 'Hallo',\n",
       " 'Hallo',\n",
       " 'Hallo',\n",
       " 'Hallo',\n",
       " 'Hallo',\n",
       " 'Hallo',\n",
       " 'Hallo',\n",
       " 'Hallo',\n",
       " 'Hallo']"
      ]
     },
     "execution_count": 12,
     "metadata": {},
     "output_type": "execute_result"
    }
   ],
   "source": [
    "mylist"
   ]
  },
  {
   "cell_type": "code",
   "execution_count": 13,
   "id": "2ebc4088-0ee2-47ab-9f47-b36c928f7b37",
   "metadata": {},
   "outputs": [],
   "source": [
    "mylist = list(set(mylist)) # Remove duplicates"
   ]
  },
  {
   "cell_type": "code",
   "execution_count": 14,
   "id": "e308489c-fefd-4406-ab93-adff2a8b31f0",
   "metadata": {},
   "outputs": [
    {
     "data": {
      "text/plain": [
       "[5, 'Hallo']"
      ]
     },
     "execution_count": 14,
     "metadata": {},
     "output_type": "execute_result"
    }
   ],
   "source": [
    "mylist"
   ]
  },
  {
   "cell_type": "markdown",
   "id": "353f8664-0d1c-460c-87f2-80fc6ce3919b",
   "metadata": {},
   "source": [
    "### Aufgabe 3"
   ]
  },
  {
   "cell_type": "code",
   "execution_count": 15,
   "id": "6ad2d931-231b-4f74-9654-a6cbfd4e8d93",
   "metadata": {},
   "outputs": [],
   "source": [
    "mymapping = dict()\n",
    "mymapping['Axams'] = 6094\n",
    "mymapping['Innsbruck'] = 6020\n",
    "mymapping['Kaunertal'] = 6524\n",
    "mymapping['Nauders'] = 6543\n",
    "mymapping['Seefeld'] = 6100"
   ]
  },
  {
   "cell_type": "code",
   "execution_count": 16,
   "id": "7fc7cfb0-36b3-4df0-8930-3f985de6aa12",
   "metadata": {},
   "outputs": [
    {
     "data": {
      "text/plain": [
       "{'Axams': 6094,\n",
       " 'Innsbruck': 6020,\n",
       " 'Kaunertal': 6524,\n",
       " 'Nauders': 6543,\n",
       " 'Seefeld': 6100}"
      ]
     },
     "execution_count": 16,
     "metadata": {},
     "output_type": "execute_result"
    }
   ],
   "source": [
    "mymapping"
   ]
  },
  {
   "cell_type": "markdown",
   "id": "2cc6afca-aefe-4008-b434-0c4cd85cff49",
   "metadata": {},
   "source": [
    "# pt3 - Verzweigungen und Schleifen"
   ]
  },
  {
   "cell_type": "markdown",
   "id": "b4e8cc90-25e7-47a8-994f-2b2abbeffeec",
   "metadata": {},
   "source": [
    "## Verzweigungen und Schleifen"
   ]
  },
  {
   "cell_type": "markdown",
   "id": "bfe179ba-ecc7-475a-8631-c96f6b03f41e",
   "metadata": {},
   "source": [
    "### Aufgabe 1"
   ]
  },
  {
   "cell_type": "code",
   "execution_count": 17,
   "id": "dbb98b59-8112-4663-b7ff-3b3ea0c9340f",
   "metadata": {},
   "outputs": [
    {
     "data": {
      "text/plain": [
       "48"
      ]
     },
     "execution_count": 17,
     "metadata": {},
     "output_type": "execute_result"
    }
   ],
   "source": [
    "mylist = [2, 5, 1, 2, 7, 8, 10, 13]\n",
    "\n",
    "sum(mylist) # Einfacher Weg"
   ]
  },
  {
   "cell_type": "code",
   "execution_count": 18,
   "id": "6c793e0d-6de9-43f9-8e48-02c0aa678fc9",
   "metadata": {},
   "outputs": [
    {
     "name": "stdout",
     "output_type": "stream",
     "text": [
      "Die Summe ist 48.\n"
     ]
    }
   ],
   "source": [
    "summe = 0\n",
    "\n",
    "for x in mylist:\n",
    "    summe += x   # äquivalent zu: summe = summe + x\n",
    "    \n",
    "print(f\"Die Summe ist {summe}.\")"
   ]
  },
  {
   "cell_type": "markdown",
   "id": "8a465b48-b806-483c-8039-c698b9df4cd9",
   "metadata": {},
   "source": [
    "### Aufgabe 2"
   ]
  },
  {
   "cell_type": "code",
   "execution_count": 19,
   "id": "82da3dec-1b99-420d-84b7-63701afc5173",
   "metadata": {},
   "outputs": [],
   "source": [
    "mynames = ['Alice', 'Bob', 'Alice', 'Thomas', 'Alice', 'Hans', 'Sarah', 'Lisa']"
   ]
  },
  {
   "cell_type": "code",
   "execution_count": 20,
   "id": "e7211135-fe46-479e-b4d6-4ce52a68329d",
   "metadata": {},
   "outputs": [
    {
     "data": {
      "text/plain": [
       "3"
      ]
     },
     "execution_count": 20,
     "metadata": {},
     "output_type": "execute_result"
    }
   ],
   "source": [
    "mynames.count('Alice') # einfacher Weg"
   ]
  },
  {
   "cell_type": "code",
   "execution_count": 21,
   "id": "0ce802f6-d169-4ee9-b11b-3ebc4a039671",
   "metadata": {},
   "outputs": [
    {
     "data": {
      "text/plain": [
       "1"
      ]
     },
     "execution_count": 21,
     "metadata": {},
     "output_type": "execute_result"
    }
   ],
   "source": [
    "mynames.count('Bob')"
   ]
  },
  {
   "cell_type": "code",
   "execution_count": 22,
   "id": "4b4fcbb9-1f5f-4228-9e2d-e72968317ad5",
   "metadata": {},
   "outputs": [
    {
     "name": "stdout",
     "output_type": "stream",
     "text": [
      "Der Name Alice kommt 3 mal in der Liste vor; der Name Bob 1 mal.\n"
     ]
    }
   ],
   "source": [
    "sum_alice = 0\n",
    "sum_bob = 0\n",
    "\n",
    "for name in mynames:\n",
    "    if name == 'Alice':\n",
    "        sum_alice += 1  # Äquivalent zu: sum_alice = sum_alice + 1\n",
    "    elif name == 'Bob':\n",
    "        sum_bob += 1\n",
    "        \n",
    "print(f\"Der Name Alice kommt {sum_alice} mal in der Liste vor; der Name Bob {sum_bob} mal.\")"
   ]
  },
  {
   "cell_type": "markdown",
   "id": "835783f3-b228-4d33-8a82-851471e1927b",
   "metadata": {},
   "source": [
    "### Aufgabe 3"
   ]
  },
  {
   "cell_type": "code",
   "execution_count": 25,
   "id": "2e625d99-6304-44b7-9792-5efd0b88562e",
   "metadata": {},
   "outputs": [],
   "source": [
    "mylist = [1, 20, 5, 15, 10, 3]\n",
    "\n",
    "mynewlist = []\n",
    "\n",
    "for elem in mylist:\n",
    "    if elem >= 10:\n",
    "        mynewlist.append(elem)"
   ]
  },
  {
   "cell_type": "code",
   "execution_count": 26,
   "id": "a9ee31fa-2c38-4b13-bd8a-5bce99a211ec",
   "metadata": {},
   "outputs": [
    {
     "data": {
      "text/plain": [
       "[20, 15, 10]"
      ]
     },
     "execution_count": 26,
     "metadata": {},
     "output_type": "execute_result"
    }
   ],
   "source": [
    "mynewlist"
   ]
  },
  {
   "cell_type": "markdown",
   "id": "bdd8794f-d210-4170-82d2-1615232b156c",
   "metadata": {},
   "source": [
    "## List comprehensions"
   ]
  },
  {
   "cell_type": "markdown",
   "id": "27a148e4-2d5a-4b30-98d6-4f8fa09a67b6",
   "metadata": {},
   "source": [
    "### Aufgabe 1"
   ]
  },
  {
   "cell_type": "code",
   "execution_count": 27,
   "id": "c16e5434-713f-447b-b6fc-c33e94cf8c84",
   "metadata": {},
   "outputs": [],
   "source": [
    "mylist = [x for x in [1, 20, 5, 15, 10] if x < 10]"
   ]
  },
  {
   "cell_type": "code",
   "execution_count": 28,
   "id": "4b231f8c-8797-420a-9164-99d471fdb253",
   "metadata": {},
   "outputs": [
    {
     "data": {
      "text/plain": [
       "[1, 5]"
      ]
     },
     "execution_count": 28,
     "metadata": {},
     "output_type": "execute_result"
    }
   ],
   "source": [
    "mylist"
   ]
  },
  {
   "cell_type": "markdown",
   "id": "d056fed1-6e76-4787-a216-4802fd549688",
   "metadata": {},
   "source": [
    "## Funktionen"
   ]
  },
  {
   "cell_type": "markdown",
   "id": "00835c33-ed39-4bda-a597-f5ea01e90fb7",
   "metadata": {},
   "source": [
    "### Aufgabe 1"
   ]
  },
  {
   "cell_type": "code",
   "execution_count": 29,
   "id": "fc155f6a-2b63-46a8-8517-f472e480b042",
   "metadata": {},
   "outputs": [],
   "source": [
    "def fahr2deg(fahrenheit):\n",
    "    celsius = (fahrenheit - 32) * 5 / 9\n",
    "    return round(celsius)"
   ]
  },
  {
   "cell_type": "code",
   "execution_count": 30,
   "id": "c5e521a3-1f5c-45a4-aefd-e2c1c1bc1ac8",
   "metadata": {},
   "outputs": [
    {
     "data": {
      "text/plain": [
       "60"
      ]
     },
     "execution_count": 30,
     "metadata": {},
     "output_type": "execute_result"
    }
   ],
   "source": [
    "fahr2deg(140)"
   ]
  },
  {
   "cell_type": "code",
   "execution_count": 31,
   "id": "bdf051e7-5ef1-4516-a2ff-9f75ac84edda",
   "metadata": {},
   "outputs": [
    {
     "data": {
      "text/plain": [
       "82"
      ]
     },
     "execution_count": 31,
     "metadata": {},
     "output_type": "execute_result"
    }
   ],
   "source": [
    "fahr2deg(180)"
   ]
  },
  {
   "cell_type": "markdown",
   "id": "caa3bd62-c69b-4b67-8123-98e299ce72b9",
   "metadata": {},
   "source": [
    "### Aufgabe 2"
   ]
  },
  {
   "cell_type": "code",
   "execution_count": 32,
   "id": "b3c263be-65da-4544-b151-487da38f4a3c",
   "metadata": {},
   "outputs": [],
   "source": [
    "def quadervolumen(breite, tiefe, hoehe):\n",
    "    return breite * tiefe * hoehe"
   ]
  },
  {
   "cell_type": "code",
   "execution_count": 33,
   "id": "e8154b96-849e-4e4b-989b-ba9ac2de00e8",
   "metadata": {},
   "outputs": [
    {
     "data": {
      "text/plain": [
       "1"
      ]
     },
     "execution_count": 33,
     "metadata": {},
     "output_type": "execute_result"
    }
   ],
   "source": [
    "quadervolumen(1, 1, 1)"
   ]
  },
  {
   "cell_type": "code",
   "execution_count": 34,
   "id": "60001551-1e95-4312-85ad-cd0e23fa2c3d",
   "metadata": {},
   "outputs": [
    {
     "data": {
      "text/plain": [
       "6"
      ]
     },
     "execution_count": 34,
     "metadata": {},
     "output_type": "execute_result"
    }
   ],
   "source": [
    "quadervolumen(1, 2, 3)"
   ]
  },
  {
   "cell_type": "markdown",
   "id": "d838c70a-0d5d-4267-bba1-28d3c058cf85",
   "metadata": {},
   "source": [
    "# pt4 Strings und Textdateien"
   ]
  },
  {
   "cell_type": "markdown",
   "id": "a44e5183-527d-4a03-89f6-321ecdeb221f",
   "metadata": {},
   "source": [
    "## Strings"
   ]
  },
  {
   "cell_type": "markdown",
   "id": "9d58cca4-6213-4559-af79-0c7be7cd875b",
   "metadata": {},
   "source": [
    "### Aufgabe 1"
   ]
  },
  {
   "cell_type": "code",
   "execution_count": 35,
   "id": "15b13952-0aea-462e-a489-533489ab7e51",
   "metadata": {},
   "outputs": [],
   "source": [
    "mytext = 'eins 2 drei vier & so ! !'"
   ]
  },
  {
   "cell_type": "code",
   "execution_count": 36,
   "id": "0d4c136c-6103-42f4-b4f4-5be781b68a65",
   "metadata": {},
   "outputs": [
    {
     "data": {
      "text/plain": [
       "False"
      ]
     },
     "execution_count": 36,
     "metadata": {},
     "output_type": "execute_result"
    }
   ],
   "source": [
    "mytext.isnumeric()"
   ]
  },
  {
   "cell_type": "code",
   "execution_count": 37,
   "id": "1f9ae365-f5e2-4210-93fa-ea1845972e89",
   "metadata": {},
   "outputs": [
    {
     "data": {
      "text/plain": [
       "False"
      ]
     },
     "execution_count": 37,
     "metadata": {},
     "output_type": "execute_result"
    }
   ],
   "source": [
    "mytext.isalpha()"
   ]
  },
  {
   "cell_type": "code",
   "execution_count": 38,
   "id": "5f8f7d3d-8eb7-4dda-95bd-cd2ac499bd4b",
   "metadata": {},
   "outputs": [
    {
     "data": {
      "text/plain": [
       "'eins 2 drei vier & so ! !'"
      ]
     },
     "execution_count": 38,
     "metadata": {},
     "output_type": "execute_result"
    }
   ],
   "source": [
    "mytext.lower()"
   ]
  },
  {
   "cell_type": "code",
   "execution_count": 39,
   "id": "215c581b-560c-41e6-b173-6b32b9dfe8ac",
   "metadata": {},
   "outputs": [
    {
     "data": {
      "text/plain": [
       "'Eins 2 drei vier & so ! !'"
      ]
     },
     "execution_count": 39,
     "metadata": {},
     "output_type": "execute_result"
    }
   ],
   "source": [
    "mytext.capitalize()"
   ]
  },
  {
   "cell_type": "markdown",
   "id": "b5d9a548-63a8-4886-a60a-27e81cafc7a1",
   "metadata": {},
   "source": [
    "### Aufgabe 2"
   ]
  },
  {
   "cell_type": "code",
   "execution_count": 65,
   "id": "c7a95443-e1db-49f9-bb1e-d45e4927a5f2",
   "metadata": {},
   "outputs": [],
   "source": [
    "mytext = \"\"\"Es stand an seines Schlosses Brüstung\n",
    "der Ritter Fips in voller Rüstung.\n",
    "\n",
    "Da hörte er von unten Krach\n",
    "und sprach zu sich: \"Ich schau mal nach!\"\n",
    "und lehnte sich in voller Rüstung\n",
    "weit über die erwähnte Brüstung.\n",
    "\n",
    "Hierbei verlor er alsobald\n",
    "zuerst den Helm und dann den Halt,\n",
    "wonach -verfolgend stur sein Ziel-\n",
    "er pausenlos bis unten fiel.\n",
    "Und hier verlor er durch sein Streben\n",
    "als drittes nun auch noch sein Leben,\n",
    "an dem er ganz besonders hing ---!\n",
    "\n",
    "Der Blechschaden war nur gering...\n",
    "\n",
    "Schlussfolgerung:\n",
    "Falls fallend Du vom Dach verschwandest,\n",
    "so brems, bevor Du unten landest.\"\"\""
   ]
  },
  {
   "cell_type": "code",
   "execution_count": 66,
   "id": "88f05e4a-51e2-4489-bb79-6f6fb908a9d3",
   "metadata": {},
   "outputs": [],
   "source": [
    "mytextstripped1 = mytext.replace(\".\", \"\").replace(\",\", \"\").replace(\"!\", \"\").replace(\":\", \"\").replace('\"', \"\").replace('-', '')"
   ]
  },
  {
   "cell_type": "code",
   "execution_count": 67,
   "id": "85b52c06-b0d9-46e1-aaf2-ef756a04006f",
   "metadata": {},
   "outputs": [
    {
     "name": "stdout",
     "output_type": "stream",
     "text": [
      "Es stand an seines Schlosses Brüstung\n",
      "der Ritter Fips in voller Rüstung\n",
      "\n",
      "Da hörte er von unten Krach\n",
      "und sprach zu sich Ich schau mal nach\n",
      "und lehnte sich in voller Rüstung\n",
      "weit über die erwähnte Brüstung\n",
      "\n",
      "Hierbei verlor er alsobald\n",
      "zuerst den Helm und dann den Halt\n",
      "wonach verfolgend stur sein Ziel\n",
      "er pausenlos bis unten fiel\n",
      "Und hier verlor er durch sein Streben\n",
      "als drittes nun auch noch sein Leben\n",
      "an dem er ganz besonders hing \n",
      "\n",
      "Der Blechschaden war nur gering\n",
      "\n",
      "Schlussfolgerung\n",
      "Falls fallend Du vom Dach verschwandest\n",
      "so brems bevor Du unten landest\n"
     ]
    }
   ],
   "source": [
    "print(mytextstripped1)"
   ]
  },
  {
   "cell_type": "markdown",
   "id": "3652257f-f565-478f-8bb6-8bdc0ae6668e",
   "metadata": {},
   "source": [
    "Alternativlösung:"
   ]
  },
  {
   "cell_type": "code",
   "execution_count": 68,
   "id": "2e41bc2b-3440-460e-871f-281b551b7ed4",
   "metadata": {},
   "outputs": [],
   "source": [
    "listeohnepunct = [letter for letter in mytext if letter.isspace() or letter.isalpha()]"
   ]
  },
  {
   "cell_type": "code",
   "execution_count": 69,
   "id": "48f19fff-ce2b-4933-8978-818d4dd09be9",
   "metadata": {},
   "outputs": [],
   "source": [
    "mytextstripped2 = \"\".join(listeohnepunct)"
   ]
  },
  {
   "cell_type": "code",
   "execution_count": 70,
   "id": "4b572462-5e74-4b68-9dbb-0d7af5bdb34e",
   "metadata": {},
   "outputs": [
    {
     "name": "stdout",
     "output_type": "stream",
     "text": [
      "Es stand an seines Schlosses Brüstung\n",
      "der Ritter Fips in voller Rüstung\n",
      "\n",
      "Da hörte er von unten Krach\n",
      "und sprach zu sich Ich schau mal nach\n",
      "und lehnte sich in voller Rüstung\n",
      "weit über die erwähnte Brüstung\n",
      "\n",
      "Hierbei verlor er alsobald\n",
      "zuerst den Helm und dann den Halt\n",
      "wonach verfolgend stur sein Ziel\n",
      "er pausenlos bis unten fiel\n",
      "Und hier verlor er durch sein Streben\n",
      "als drittes nun auch noch sein Leben\n",
      "an dem er ganz besonders hing \n",
      "\n",
      "Der Blechschaden war nur gering\n",
      "\n",
      "Schlussfolgerung\n",
      "Falls fallend Du vom Dach verschwandest\n",
      "so brems bevor Du unten landest\n"
     ]
    }
   ],
   "source": [
    "print(mytextstripped2)"
   ]
  },
  {
   "cell_type": "code",
   "execution_count": 71,
   "id": "46c391e0-a0d2-403c-a0ef-c1112a1e5a6a",
   "metadata": {},
   "outputs": [],
   "source": [
    "mytextstripped2 = mytextstripped2.lower()"
   ]
  },
  {
   "cell_type": "code",
   "execution_count": 72,
   "id": "15fd7ade-1bcf-470c-bddf-332d7898dce9",
   "metadata": {},
   "outputs": [
    {
     "name": "stdout",
     "output_type": "stream",
     "text": [
      "es stand an seines schlosses brüstung\n",
      "der ritter fips in voller rüstung\n",
      "\n",
      "da hörte er von unten krach\n",
      "und sprach zu sich ich schau mal nach\n",
      "und lehnte sich in voller rüstung\n",
      "weit über die erwähnte brüstung\n",
      "\n",
      "hierbei verlor er alsobald\n",
      "zuerst den helm und dann den halt\n",
      "wonach verfolgend stur sein ziel\n",
      "er pausenlos bis unten fiel\n",
      "und hier verlor er durch sein streben\n",
      "als drittes nun auch noch sein leben\n",
      "an dem er ganz besonders hing \n",
      "\n",
      "der blechschaden war nur gering\n",
      "\n",
      "schlussfolgerung\n",
      "falls fallend du vom dach verschwandest\n",
      "so brems bevor du unten landest\n"
     ]
    }
   ],
   "source": [
    "print(mytextstripped2)"
   ]
  },
  {
   "cell_type": "code",
   "execution_count": 73,
   "id": "aeea483f-052b-489d-a8d4-976842da9df3",
   "metadata": {},
   "outputs": [],
   "source": [
    "tokens = mytextstripped2.split()"
   ]
  },
  {
   "cell_type": "code",
   "execution_count": 74,
   "id": "a13d3a15-33d1-48ed-9b69-1024e387a971",
   "metadata": {},
   "outputs": [],
   "source": [
    "cntWords = dict()\n",
    "\n",
    "for token in tokens:\n",
    "    if token in cntWords:\n",
    "        cntWords[token] = cntWords[token] + 1   # oder: cntWords[token] += 1\n",
    "    else:\n",
    "        cntWords[token] = 1 # erstmaliges Hinzufügen des Wortes"
   ]
  },
  {
   "cell_type": "code",
   "execution_count": 75,
   "id": "871a2605-6de5-47e4-9a68-037dcc49317b",
   "metadata": {},
   "outputs": [
    {
     "data": {
      "text/plain": [
       "{'es': 1,\n",
       " 'stand': 1,\n",
       " 'an': 2,\n",
       " 'seines': 1,\n",
       " 'schlosses': 1,\n",
       " 'brüstung': 2,\n",
       " 'der': 2,\n",
       " 'ritter': 1,\n",
       " 'fips': 1,\n",
       " 'in': 2,\n",
       " 'voller': 2,\n",
       " 'rüstung': 2,\n",
       " 'da': 1,\n",
       " 'hörte': 1,\n",
       " 'er': 5,\n",
       " 'von': 1,\n",
       " 'unten': 3,\n",
       " 'krach': 1,\n",
       " 'und': 4,\n",
       " 'sprach': 1,\n",
       " 'zu': 1,\n",
       " 'sich': 2,\n",
       " 'ich': 1,\n",
       " 'schau': 1,\n",
       " 'mal': 1,\n",
       " 'nach': 1,\n",
       " 'lehnte': 1,\n",
       " 'weit': 1,\n",
       " 'über': 1,\n",
       " 'die': 1,\n",
       " 'erwähnte': 1,\n",
       " 'hierbei': 1,\n",
       " 'verlor': 2,\n",
       " 'alsobald': 1,\n",
       " 'zuerst': 1,\n",
       " 'den': 2,\n",
       " 'helm': 1,\n",
       " 'dann': 1,\n",
       " 'halt': 1,\n",
       " 'wonach': 1,\n",
       " 'verfolgend': 1,\n",
       " 'stur': 1,\n",
       " 'sein': 3,\n",
       " 'ziel': 1,\n",
       " 'pausenlos': 1,\n",
       " 'bis': 1,\n",
       " 'fiel': 1,\n",
       " 'hier': 1,\n",
       " 'durch': 1,\n",
       " 'streben': 1,\n",
       " 'als': 1,\n",
       " 'drittes': 1,\n",
       " 'nun': 1,\n",
       " 'auch': 1,\n",
       " 'noch': 1,\n",
       " 'leben': 1,\n",
       " 'dem': 1,\n",
       " 'ganz': 1,\n",
       " 'besonders': 1,\n",
       " 'hing': 1,\n",
       " 'blechschaden': 1,\n",
       " 'war': 1,\n",
       " 'nur': 1,\n",
       " 'gering': 1,\n",
       " 'schlussfolgerung': 1,\n",
       " 'falls': 1,\n",
       " 'fallend': 1,\n",
       " 'du': 2,\n",
       " 'vom': 1,\n",
       " 'dach': 1,\n",
       " 'verschwandest': 1,\n",
       " 'so': 1,\n",
       " 'brems': 1,\n",
       " 'bevor': 1,\n",
       " 'landest': 1}"
      ]
     },
     "execution_count": 75,
     "metadata": {},
     "output_type": "execute_result"
    }
   ],
   "source": [
    "cntWords"
   ]
  },
  {
   "cell_type": "code",
   "execution_count": 76,
   "id": "2df4becf-aed7-4137-be61-35c96647d3de",
   "metadata": {},
   "outputs": [
    {
     "data": {
      "text/plain": [
       "4"
      ]
     },
     "execution_count": 76,
     "metadata": {},
     "output_type": "execute_result"
    }
   ],
   "source": [
    "cntWords['und']"
   ]
  },
  {
   "cell_type": "code",
   "execution_count": 78,
   "id": "70af375e-4cbd-4c7e-a45f-9225d858bbf3",
   "metadata": {},
   "outputs": [
    {
     "name": "stdout",
     "output_type": "stream",
     "text": [
      "es 1\n",
      "stand 1\n",
      "an 2\n",
      "seines 1\n",
      "schlosses 1\n",
      "brüstung 2\n",
      "der 2\n",
      "ritter 1\n",
      "fips 1\n",
      "in 2\n",
      "voller 2\n",
      "rüstung 2\n",
      "da 1\n",
      "hörte 1\n",
      "er 5\n",
      "von 1\n",
      "unten 3\n",
      "krach 1\n",
      "und 4\n",
      "sprach 1\n",
      "zu 1\n",
      "sich 2\n",
      "ich 1\n",
      "schau 1\n",
      "mal 1\n",
      "nach 1\n",
      "lehnte 1\n",
      "weit 1\n",
      "über 1\n",
      "die 1\n",
      "erwähnte 1\n",
      "hierbei 1\n",
      "verlor 2\n",
      "alsobald 1\n",
      "zuerst 1\n",
      "den 2\n",
      "helm 1\n",
      "dann 1\n",
      "halt 1\n",
      "wonach 1\n",
      "verfolgend 1\n",
      "stur 1\n",
      "sein 3\n",
      "ziel 1\n",
      "pausenlos 1\n",
      "bis 1\n",
      "fiel 1\n",
      "hier 1\n",
      "durch 1\n",
      "streben 1\n",
      "als 1\n",
      "drittes 1\n",
      "nun 1\n",
      "auch 1\n",
      "noch 1\n",
      "leben 1\n",
      "dem 1\n",
      "ganz 1\n",
      "besonders 1\n",
      "hing 1\n",
      "blechschaden 1\n",
      "war 1\n",
      "nur 1\n",
      "gering 1\n",
      "schlussfolgerung 1\n",
      "falls 1\n",
      "fallend 1\n",
      "du 2\n",
      "vom 1\n",
      "dach 1\n",
      "verschwandest 1\n",
      "so 1\n",
      "brems 1\n",
      "bevor 1\n",
      "landest 1\n"
     ]
    }
   ],
   "source": [
    "for key in cntWords:\n",
    "    print(key, cntWords[key])"
   ]
  },
  {
   "cell_type": "code",
   "execution_count": null,
   "id": "e659a0b4-0d67-4673-92e0-e33f7fbe2b8e",
   "metadata": {},
   "outputs": [],
   "source": []
  }
 ],
 "metadata": {
  "kernelspec": {
   "display_name": "Python 3",
   "language": "python",
   "name": "python3"
  },
  "language_info": {
   "codemirror_mode": {
    "name": "ipython",
    "version": 3
   },
   "file_extension": ".py",
   "mimetype": "text/x-python",
   "name": "python",
   "nbconvert_exporter": "python",
   "pygments_lexer": "ipython3",
   "version": "3.9.4"
  }
 },
 "nbformat": 4,
 "nbformat_minor": 5
}
