{
 "cells": [
  {
   "cell_type": "markdown",
   "id": "cacf41c4-0bdf-469b-b094-52354dc91f3b",
   "metadata": {},
   "source": [
    "# pt2 Datentypen"
   ]
  },
  {
   "cell_type": "markdown",
   "id": "38af6fd0-acaf-416d-a47c-78336117982f",
   "metadata": {},
   "source": [
    "## Einfache Datentypen"
   ]
  },
  {
   "cell_type": "markdown",
   "id": "18a4aa3c-9e87-4f59-81fb-c4844f15013b",
   "metadata": {},
   "source": [
    "### Aufgabe 1"
   ]
  },
  {
   "cell_type": "code",
   "execution_count": 2,
   "id": "da5cb955-14a8-4d06-9002-5d142ade7e74",
   "metadata": {},
   "outputs": [
    {
     "name": "stdout",
     "output_type": "stream",
     "text": [
      "SpamSpamSpamSpamSpam\n"
     ]
    }
   ],
   "source": [
    "mytext = \"Spam\"\n",
    "print(mytext * 5)"
   ]
  },
  {
   "cell_type": "markdown",
   "id": "81addf14-7a19-4246-8bdb-37a8c28a4ac1",
   "metadata": {},
   "source": [
    "### Aufgabe 2"
   ]
  },
  {
   "cell_type": "code",
   "execution_count": 3,
   "id": "bf0ce10e-a5e9-4c4d-890b-4528424fdfa1",
   "metadata": {},
   "outputs": [
    {
     "name": "stdout",
     "output_type": "stream",
     "text": [
      "160 Fahrenheit entspricht 71 Celsius\n"
     ]
    }
   ],
   "source": [
    "fahrenheit = 160 # Perfekte Milchschaumtemperatur!\n",
    "\n",
    "celsius = (fahrenheit - 32) * 5 / 9\n",
    "\n",
    "print(f\"{fahrenheit} Fahrenheit entspricht {round(celsius)} Celsius\")"
   ]
  },
  {
   "cell_type": "markdown",
   "id": "ee8689d3-8b14-4ff9-9162-fd29f90b8227",
   "metadata": {},
   "source": [
    "### Aufgabe 3"
   ]
  },
  {
   "cell_type": "code",
   "execution_count": 4,
   "id": "ae3907ac-7d11-47d5-b35a-efd00c346498",
   "metadata": {},
   "outputs": [
    {
     "data": {
      "text/plain": [
       "False"
      ]
     },
     "execution_count": 4,
     "metadata": {},
     "output_type": "execute_result"
    }
   ],
   "source": [
    "not ((True or False) and (not False))"
   ]
  },
  {
   "cell_type": "markdown",
   "id": "cf4f79bd-27d2-4ed4-89fb-25de41a5bc19",
   "metadata": {},
   "source": [
    "## Zusammengesetzte Datentypen"
   ]
  },
  {
   "cell_type": "markdown",
   "id": "6e02ebd2-1b2a-4e00-983e-6836efd9415e",
   "metadata": {},
   "source": [
    "### Aufgabe 1"
   ]
  },
  {
   "cell_type": "code",
   "execution_count": 5,
   "id": "0df362f1-b6b9-4ed6-a461-53456a76f92a",
   "metadata": {},
   "outputs": [],
   "source": [
    "mylist = [1, 2, 1, 5, 3, 'a', 'Dienstag', 5]"
   ]
  },
  {
   "cell_type": "code",
   "execution_count": 6,
   "id": "73f1e55e-a8e6-495f-88b2-bf321d308968",
   "metadata": {},
   "outputs": [
    {
     "data": {
      "text/plain": [
       "8"
      ]
     },
     "execution_count": 6,
     "metadata": {},
     "output_type": "execute_result"
    }
   ],
   "source": [
    "len(mylist)"
   ]
  },
  {
   "cell_type": "code",
   "execution_count": 7,
   "id": "8d2e1af9-b1c8-49be-8514-944eed2cca1f",
   "metadata": {},
   "outputs": [
    {
     "data": {
      "text/plain": [
       "1"
      ]
     },
     "execution_count": 7,
     "metadata": {},
     "output_type": "execute_result"
    }
   ],
   "source": [
    "mylist.pop(2)"
   ]
  },
  {
   "cell_type": "code",
   "execution_count": 8,
   "id": "d96955da-ca76-4052-90fb-d48ea77eafda",
   "metadata": {},
   "outputs": [
    {
     "data": {
      "text/plain": [
       "\u001b[0;31mSignature:\u001b[0m \u001b[0mmylist\u001b[0m\u001b[0;34m.\u001b[0m\u001b[0mremove\u001b[0m\u001b[0;34m(\u001b[0m\u001b[0mvalue\u001b[0m\u001b[0;34m,\u001b[0m \u001b[0;34m/\u001b[0m\u001b[0;34m)\u001b[0m\u001b[0;34m\u001b[0m\u001b[0;34m\u001b[0m\u001b[0m\n",
       "\u001b[0;31mDocstring:\u001b[0m\n",
       "Remove first occurrence of value.\n",
       "\n",
       "Raises ValueError if the value is not present.\n",
       "\u001b[0;31mType:\u001b[0m      builtin_function_or_method\n"
      ]
     },
     "metadata": {},
     "output_type": "display_data"
    }
   ],
   "source": [
    "?mylist.remove"
   ]
  },
  {
   "cell_type": "code",
   "execution_count": 9,
   "id": "69b4689f-30d7-4553-aab1-92d90357464f",
   "metadata": {},
   "outputs": [],
   "source": [
    "mylist.remove(5)\n",
    "mylist.remove(5) # needs to be called twice because we had it in list twice"
   ]
  },
  {
   "cell_type": "markdown",
   "id": "9b21fa26-190d-4491-b8cb-af1301e38b78",
   "metadata": {},
   "source": [
    "### Aufgabe 2"
   ]
  },
  {
   "cell_type": "code",
   "execution_count": 10,
   "id": "a25a50db-d79f-4798-a120-eba6acdff081",
   "metadata": {},
   "outputs": [],
   "source": [
    "mylist = ['Hallo'] * 100"
   ]
  },
  {
   "cell_type": "code",
   "execution_count": 11,
   "id": "8dce6463-8e76-4903-be2d-9abd1159a7be",
   "metadata": {},
   "outputs": [],
   "source": [
    "mylist[49] = 5 # Counting starts at zero, so the 50. element is on position 49."
   ]
  },
  {
   "cell_type": "code",
   "execution_count": 12,
   "id": "927aecd2-45e6-48d5-af60-8879343ab243",
   "metadata": {},
   "outputs": [
    {
     "data": {
      "text/plain": [
       "['Hallo',\n",
       " 'Hallo',\n",
       " 'Hallo',\n",
       " 'Hallo',\n",
       " 'Hallo',\n",
       " 'Hallo',\n",
       " 'Hallo',\n",
       " 'Hallo',\n",
       " 'Hallo',\n",
       " 'Hallo',\n",
       " 'Hallo',\n",
       " 'Hallo',\n",
       " 'Hallo',\n",
       " 'Hallo',\n",
       " 'Hallo',\n",
       " 'Hallo',\n",
       " 'Hallo',\n",
       " 'Hallo',\n",
       " 'Hallo',\n",
       " 'Hallo',\n",
       " 'Hallo',\n",
       " 'Hallo',\n",
       " 'Hallo',\n",
       " 'Hallo',\n",
       " 'Hallo',\n",
       " 'Hallo',\n",
       " 'Hallo',\n",
       " 'Hallo',\n",
       " 'Hallo',\n",
       " 'Hallo',\n",
       " 'Hallo',\n",
       " 'Hallo',\n",
       " 'Hallo',\n",
       " 'Hallo',\n",
       " 'Hallo',\n",
       " 'Hallo',\n",
       " 'Hallo',\n",
       " 'Hallo',\n",
       " 'Hallo',\n",
       " 'Hallo',\n",
       " 'Hallo',\n",
       " 'Hallo',\n",
       " 'Hallo',\n",
       " 'Hallo',\n",
       " 'Hallo',\n",
       " 'Hallo',\n",
       " 'Hallo',\n",
       " 'Hallo',\n",
       " 'Hallo',\n",
       " 5,\n",
       " 'Hallo',\n",
       " 'Hallo',\n",
       " 'Hallo',\n",
       " 'Hallo',\n",
       " 'Hallo',\n",
       " 'Hallo',\n",
       " 'Hallo',\n",
       " 'Hallo',\n",
       " 'Hallo',\n",
       " 'Hallo',\n",
       " 'Hallo',\n",
       " 'Hallo',\n",
       " 'Hallo',\n",
       " 'Hallo',\n",
       " 'Hallo',\n",
       " 'Hallo',\n",
       " 'Hallo',\n",
       " 'Hallo',\n",
       " 'Hallo',\n",
       " 'Hallo',\n",
       " 'Hallo',\n",
       " 'Hallo',\n",
       " 'Hallo',\n",
       " 'Hallo',\n",
       " 'Hallo',\n",
       " 'Hallo',\n",
       " 'Hallo',\n",
       " 'Hallo',\n",
       " 'Hallo',\n",
       " 'Hallo',\n",
       " 'Hallo',\n",
       " 'Hallo',\n",
       " 'Hallo',\n",
       " 'Hallo',\n",
       " 'Hallo',\n",
       " 'Hallo',\n",
       " 'Hallo',\n",
       " 'Hallo',\n",
       " 'Hallo',\n",
       " 'Hallo',\n",
       " 'Hallo',\n",
       " 'Hallo',\n",
       " 'Hallo',\n",
       " 'Hallo',\n",
       " 'Hallo',\n",
       " 'Hallo',\n",
       " 'Hallo',\n",
       " 'Hallo',\n",
       " 'Hallo',\n",
       " 'Hallo']"
      ]
     },
     "execution_count": 12,
     "metadata": {},
     "output_type": "execute_result"
    }
   ],
   "source": [
    "mylist"
   ]
  },
  {
   "cell_type": "code",
   "execution_count": 13,
   "id": "2ebc4088-0ee2-47ab-9f47-b36c928f7b37",
   "metadata": {},
   "outputs": [],
   "source": [
    "mylist = list(set(mylist)) # Remove duplicates"
   ]
  },
  {
   "cell_type": "code",
   "execution_count": 14,
   "id": "e308489c-fefd-4406-ab93-adff2a8b31f0",
   "metadata": {},
   "outputs": [
    {
     "data": {
      "text/plain": [
       "[5, 'Hallo']"
      ]
     },
     "execution_count": 14,
     "metadata": {},
     "output_type": "execute_result"
    }
   ],
   "source": [
    "mylist"
   ]
  },
  {
   "cell_type": "markdown",
   "id": "353f8664-0d1c-460c-87f2-80fc6ce3919b",
   "metadata": {},
   "source": [
    "### Aufgabe 3"
   ]
  },
  {
   "cell_type": "code",
   "execution_count": 15,
   "id": "6ad2d931-231b-4f74-9654-a6cbfd4e8d93",
   "metadata": {},
   "outputs": [],
   "source": [
    "mymapping = dict()\n",
    "mymapping['Axams'] = 6094\n",
    "mymapping['Innsbruck'] = 6020\n",
    "mymapping['Kaunertal'] = 6524\n",
    "mymapping['Nauders'] = 6543\n",
    "mymapping['Seefeld'] = 6100"
   ]
  },
  {
   "cell_type": "code",
   "execution_count": 16,
   "id": "7fc7cfb0-36b3-4df0-8930-3f985de6aa12",
   "metadata": {},
   "outputs": [
    {
     "data": {
      "text/plain": [
       "{'Axams': 6094,\n",
       " 'Innsbruck': 6020,\n",
       " 'Kaunertal': 6524,\n",
       " 'Nauders': 6543,\n",
       " 'Seefeld': 6100}"
      ]
     },
     "execution_count": 16,
     "metadata": {},
     "output_type": "execute_result"
    }
   ],
   "source": [
    "mymapping"
   ]
  },
  {
   "cell_type": "markdown",
   "id": "2cc6afca-aefe-4008-b434-0c4cd85cff49",
   "metadata": {},
   "source": [
    "# pt3 - Verzweigungen und Schleifen"
   ]
  },
  {
   "cell_type": "markdown",
   "id": "b4e8cc90-25e7-47a8-994f-2b2abbeffeec",
   "metadata": {},
   "source": [
    "## Verzweigungen und Schleifen"
   ]
  },
  {
   "cell_type": "markdown",
   "id": "bfe179ba-ecc7-475a-8631-c96f6b03f41e",
   "metadata": {},
   "source": [
    "### Aufgabe 1"
   ]
  },
  {
   "cell_type": "code",
   "execution_count": 17,
   "id": "dbb98b59-8112-4663-b7ff-3b3ea0c9340f",
   "metadata": {},
   "outputs": [
    {
     "data": {
      "text/plain": [
       "48"
      ]
     },
     "execution_count": 17,
     "metadata": {},
     "output_type": "execute_result"
    }
   ],
   "source": [
    "mylist = [2, 5, 1, 2, 7, 8, 10, 13]\n",
    "\n",
    "sum(mylist) # Einfacher Weg"
   ]
  },
  {
   "cell_type": "code",
   "execution_count": 18,
   "id": "6c793e0d-6de9-43f9-8e48-02c0aa678fc9",
   "metadata": {},
   "outputs": [
    {
     "name": "stdout",
     "output_type": "stream",
     "text": [
      "Die Summe ist 48.\n"
     ]
    }
   ],
   "source": [
    "summe = 0\n",
    "\n",
    "for x in mylist:\n",
    "    summe += x   # äquivalent zu: summe = summe + x\n",
    "    \n",
    "print(f\"Die Summe ist {summe}.\")"
   ]
  },
  {
   "cell_type": "markdown",
   "id": "8a465b48-b806-483c-8039-c698b9df4cd9",
   "metadata": {},
   "source": [
    "### Aufgabe 2"
   ]
  },
  {
   "cell_type": "code",
   "execution_count": 19,
   "id": "82da3dec-1b99-420d-84b7-63701afc5173",
   "metadata": {},
   "outputs": [],
   "source": [
    "mynames = ['Alice', 'Bob', 'Alice', 'Thomas', 'Alice', 'Hans', 'Sarah', 'Lisa']"
   ]
  },
  {
   "cell_type": "code",
   "execution_count": 20,
   "id": "e7211135-fe46-479e-b4d6-4ce52a68329d",
   "metadata": {},
   "outputs": [
    {
     "data": {
      "text/plain": [
       "3"
      ]
     },
     "execution_count": 20,
     "metadata": {},
     "output_type": "execute_result"
    }
   ],
   "source": [
    "mynames.count('Alice') # einfacher Weg"
   ]
  },
  {
   "cell_type": "code",
   "execution_count": 21,
   "id": "0ce802f6-d169-4ee9-b11b-3ebc4a039671",
   "metadata": {},
   "outputs": [
    {
     "data": {
      "text/plain": [
       "1"
      ]
     },
     "execution_count": 21,
     "metadata": {},
     "output_type": "execute_result"
    }
   ],
   "source": [
    "mynames.count('Bob')"
   ]
  },
  {
   "cell_type": "code",
   "execution_count": 22,
   "id": "4b4fcbb9-1f5f-4228-9e2d-e72968317ad5",
   "metadata": {},
   "outputs": [
    {
     "name": "stdout",
     "output_type": "stream",
     "text": [
      "Der Name Alice kommt 3 mal in der Liste vor; der Name Bob 1 mal.\n"
     ]
    }
   ],
   "source": [
    "sum_alice = 0\n",
    "sum_bob = 0\n",
    "\n",
    "for name in mynames:\n",
    "    if name == 'Alice':\n",
    "        sum_alice += 1  # Äquivalent zu: sum_alice = sum_alice + 1\n",
    "    elif name == 'Bob':\n",
    "        sum_bob += 1\n",
    "        \n",
    "print(f\"Der Name Alice kommt {sum_alice} mal in der Liste vor; der Name Bob {sum_bob} mal.\")"
   ]
  },
  {
   "cell_type": "markdown",
   "id": "835783f3-b228-4d33-8a82-851471e1927b",
   "metadata": {},
   "source": [
    "### Aufgabe 3"
   ]
  },
  {
   "cell_type": "code",
   "execution_count": 25,
   "id": "2e625d99-6304-44b7-9792-5efd0b88562e",
   "metadata": {},
   "outputs": [],
   "source": [
    "mylist = [1, 20, 5, 15, 10, 3]\n",
    "\n",
    "mynewlist = []\n",
    "\n",
    "for elem in mylist:\n",
    "    if elem >= 10:\n",
    "        mynewlist.append(elem)"
   ]
  },
  {
   "cell_type": "code",
   "execution_count": 26,
   "id": "a9ee31fa-2c38-4b13-bd8a-5bce99a211ec",
   "metadata": {},
   "outputs": [
    {
     "data": {
      "text/plain": [
       "[20, 15, 10]"
      ]
     },
     "execution_count": 26,
     "metadata": {},
     "output_type": "execute_result"
    }
   ],
   "source": [
    "mynewlist"
   ]
  },
  {
   "cell_type": "markdown",
   "id": "bdd8794f-d210-4170-82d2-1615232b156c",
   "metadata": {},
   "source": [
    "## List comprehensions"
   ]
  },
  {
   "cell_type": "markdown",
   "id": "27a148e4-2d5a-4b30-98d6-4f8fa09a67b6",
   "metadata": {},
   "source": [
    "### Aufgabe 1"
   ]
  },
  {
   "cell_type": "code",
   "execution_count": 27,
   "id": "c16e5434-713f-447b-b6fc-c33e94cf8c84",
   "metadata": {},
   "outputs": [],
   "source": [
    "mylist = [x for x in [1, 20, 5, 15, 10] if x < 10]"
   ]
  },
  {
   "cell_type": "code",
   "execution_count": 28,
   "id": "4b231f8c-8797-420a-9164-99d471fdb253",
   "metadata": {},
   "outputs": [
    {
     "data": {
      "text/plain": [
       "[1, 5]"
      ]
     },
     "execution_count": 28,
     "metadata": {},
     "output_type": "execute_result"
    }
   ],
   "source": [
    "mylist"
   ]
  },
  {
   "cell_type": "code",
   "execution_count": null,
   "id": "3c6a2dc7-230b-42f3-aaf2-42bf2b7a07f1",
   "metadata": {},
   "outputs": [],
   "source": []
  }
 ],
 "metadata": {
  "kernelspec": {
   "display_name": "Python 3",
   "language": "python",
   "name": "python3"
  },
  "language_info": {
   "codemirror_mode": {
    "name": "ipython",
    "version": 3
   },
   "file_extension": ".py",
   "mimetype": "text/x-python",
   "name": "python",
   "nbconvert_exporter": "python",
   "pygments_lexer": "ipython3",
   "version": "3.9.4"
  }
 },
 "nbformat": 4,
 "nbformat_minor": 5
}
