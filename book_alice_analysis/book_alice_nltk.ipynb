{
 "cells": [
  {
   "cell_type": "markdown",
   "id": "656446f8",
   "metadata": {},
   "source": [
    "### Aufgabe 1"
   ]
  },
  {
   "cell_type": "code",
   "execution_count": 2,
   "id": "153b3d06",
   "metadata": {},
   "outputs": [],
   "source": [
    "# download alice.txt as plain text from gutenberg project: https://www.gutenberg.org/ebooks/11\n",
    "# (also remove text lines in the beginning and end which do not belong to the book)\n",
    "f = open(\"alice.txt\", \"r\", encoding=\"utf-8-sig\")\n",
    "aliceText = f.read() # Einlesen der Datei\n",
    "f.close()"
   ]
  },
  {
   "cell_type": "code",
   "execution_count": 3,
   "id": "c620c939",
   "metadata": {},
   "outputs": [
    {
     "name": "stdout",
     "output_type": "stream",
     "text": [
      "Alice’s Adventures in Wonderland\n",
      "\n",
      "by Lewis Carroll\n",
      "\n",
      "THE MILLENNIUM FULCRUM EDITION 3.0\n",
      "\n",
      "Contents\n",
      "\n",
      " CHAPTER I.     Down the Rabbit-Hole\n",
      " CHAPTER II.    The Pool of Tears\n",
      " CHAPTER III.   A Caucus-Race and a Long Tale\n",
      " CHAPTER IV.    The Rabbit Sends in a Little Bill\n",
      " CHAPTER V.     Advice from a Caterpillar\n",
      " CHAPTER VI.    Pig and Pepper\n",
      " CHAPTER VII.   A Mad Tea-Party\n",
      " CHAPTER VIII.  The Queen’s Croquet-Ground\n",
      " CHAPTER IX.    The Mock Turtle’s Story\n",
      " CHAPTER X.     The Lobster Quadrille\n",
      " CHAPTER XI.    Who Stole the Tarts?\n",
      " CHAPTER XII.   Alice’s Evidence\n",
      "\n",
      "\n",
      "\n",
      "\n",
      "CHAPTER I.\n",
      "Down the Rabbit-Hole\n",
      "\n",
      "\n",
      "Alice was beginning to get very tired of sitting by her sister on the\n",
      "bank, and of having nothing to do: once or twice she had peeped into\n",
      "the book her sister was reading, but it had no pictures or\n",
      "conversations in it, “and what is the use of a book,” thought Alice\n",
      "“without pictures or conversations?”\n",
      "\n",
      "So she was considering in her own mind (as well as she could, for the\n",
      "hot day made her feel very \n"
     ]
    }
   ],
   "source": [
    "print(aliceText[:1000])"
   ]
  },
  {
   "cell_type": "code",
   "execution_count": 4,
   "id": "4d430eba",
   "metadata": {},
   "outputs": [
    {
     "name": "stdout",
     "output_type": "stream",
     "text": [
      "\n",
      "wind, and the pool rippling to the waving of the reeds—the rattling\n",
      "teacups would change to tinkling sheep-bells, and the Queen’s shrill\n",
      "cries to the voice of the shepherd boy—and the sneeze of the baby, the\n",
      "shriek of the Gryphon, and all the other queer noises, would change\n",
      "(she knew) to the confused clamour of the busy farm-yard—while the\n",
      "lowing of the cattle in the distance would take the place of the Mock\n",
      "Turtle’s heavy sobs.\n",
      "\n",
      "Lastly, she pictured to herself how this same little sister of hers\n",
      "would, in the after-time, be herself a grown woman; and how she would\n",
      "keep, through all her riper years, the simple and loving heart of her\n",
      "childhood: and how she would gather about her other little children,\n",
      "and make _their_ eyes bright and eager with many a strange tale,\n",
      "perhaps even with the dream of Wonderland of long ago: and how she\n",
      "would feel with all their simple sorrows, and find a pleasure in all\n",
      "their simple joys, remembering her own child-life, and the happy summer\n",
      "days.\n",
      "\n",
      "THE END\n"
     ]
    }
   ],
   "source": [
    "print(aliceText[-1000:])"
   ]
  },
  {
   "cell_type": "markdown",
   "id": "cb8e103b-944c-4cca-912b-b0d265f843ad",
   "metadata": {},
   "source": [
    "### Aufgabe 2"
   ]
  },
  {
   "cell_type": "code",
   "execution_count": 19,
   "id": "d561e4f9-a9bc-4052-9144-0002fa465d0d",
   "metadata": {},
   "outputs": [],
   "source": [
    "import nltk\n",
    "\n",
    "tokens_nltk = nltk.word_tokenize(aliceText.lower())"
   ]
  },
  {
   "cell_type": "markdown",
   "id": "a73957d2-577f-49fb-b899-8d68edd1392c",
   "metadata": {},
   "source": [
    "### Aufgabe 3"
   ]
  },
  {
   "cell_type": "code",
   "execution_count": 20,
   "id": "76d15645-6e70-4a2d-a7b6-c862dd112993",
   "metadata": {},
   "outputs": [
    {
     "data": {
      "text/plain": [
       "['alice’s',\n",
       " 'adventures',\n",
       " 'in',\n",
       " 'wonderland',\n",
       " 'by',\n",
       " 'lewis',\n",
       " 'carroll',\n",
       " 'the',\n",
       " 'millennium',\n",
       " 'fulcrum',\n",
       " 'edition',\n",
       " '3.0',\n",
       " 'contents',\n",
       " 'chapter',\n",
       " 'i.',\n",
       " 'down',\n",
       " 'the',\n",
       " 'rabbit-hole',\n",
       " 'chapter',\n",
       " 'ii.',\n",
       " 'the',\n",
       " 'pool',\n",
       " 'of',\n",
       " 'tears',\n",
       " 'chapter',\n",
       " 'iii.',\n",
       " 'a',\n",
       " 'caucus-race',\n",
       " 'and',\n",
       " 'a']"
      ]
     },
     "execution_count": 20,
     "metadata": {},
     "output_type": "execute_result"
    }
   ],
   "source": [
    "tokens[:30]"
   ]
  },
  {
   "cell_type": "markdown",
   "id": "b645ad02-8bce-493b-a186-985dfb87f301",
   "metadata": {},
   "source": [
    "### Aufgabe 4"
   ]
  },
  {
   "cell_type": "code",
   "execution_count": 21,
   "id": "1762bb76-892a-48e3-9778-967477dfcb3a",
   "metadata": {},
   "outputs": [],
   "source": [
    "from nltk.probability import FreqDist\n",
    "cntWords = FreqDist(tokens)"
   ]
  },
  {
   "cell_type": "code",
   "execution_count": 22,
   "id": "b51ebe35-dbaa-4f23-abbc-5f2e09802e66",
   "metadata": {},
   "outputs": [
    {
     "data": {
      "image/png": "[encoded data removed]",
      "text/plain": [
       "<Figure size 432x288 with 1 Axes>"
      ]
     },
     "metadata": {
      "needs_background": "light"
     },
     "output_type": "display_data"
    },
    {
     "data": {
      "text/plain": [
       "<AxesSubplot:xlabel='Samples', ylabel='Counts'>"
      ]
     },
     "execution_count": 22,
     "metadata": {},
     "output_type": "execute_result"
    }
   ],
   "source": [
    "cntWords.plot(20)"
   ]
  },
  {
   "cell_type": "markdown",
   "id": "c1e81575-18de-46c1-bb5d-5863b4598da7",
   "metadata": {},
   "source": [
    "### Aufgabe 5"
   ]
  },
  {
   "cell_type": "code",
   "execution_count": 54,
   "id": "12a4955a-e00b-49f8-b5f0-103a115fdadf",
   "metadata": {},
   "outputs": [],
   "source": [
    "# Späterer Plot zeigt, dass wir Satzzeichen entfernen sollten\n",
    "import string\n",
    "punctuation = string.punctuation + \"“\" + \"”\" + \"’\"\n",
    "\n",
    "aliceTextStripped = [letter for letter in aliceText if letter not in punctuation]\n",
    "aliceTextStripped = \"\".join(aliceTextStripped) # vorherige listcomprehension erzeugt Liste von Buchstaben; hier machen wir wieder einen Text daraus.\n",
    "\n",
    "tokens_stripped = nltk.word_tokenize(aliceTextStripped.lower())"
   ]
  },
  {
   "cell_type": "code",
   "execution_count": 59,
   "id": "0280b7db-0e3b-4c80-a992-0a80ab3f964b",
   "metadata": {},
   "outputs": [],
   "source": [
    "# Alternative Möglichkeit zum Entfernen der Satzzeichen:\n",
    "# aliceTextStripped = aliceText\n",
    "\n",
    "# for punct in punctuation:\n",
    "#     aliceTextStripped = aliceTextStripped.replace(punct, '')"
   ]
  },
  {
   "cell_type": "code",
   "execution_count": 60,
   "id": "04b86736-5558-41a2-9673-d990ca640f71",
   "metadata": {},
   "outputs": [],
   "source": [
    "from nltk.corpus import stopwords\n",
    "\n",
    "stop_words = stopwords.words(\"english\")\n",
    "\n",
    "tokens_without_stopwords = [word for word in tokens_stripped if word not in stop_words]"
   ]
  },
  {
   "cell_type": "code",
   "execution_count": 61,
   "id": "32b795ad-ef32-4dff-bead-4010ca61622f",
   "metadata": {},
   "outputs": [],
   "source": [
    "cntWords_without_stopwords = FreqDist(tokens_without_stopwords)"
   ]
  },
  {
   "cell_type": "code",
   "execution_count": 62,
   "id": "c7a721dc-563f-43c0-a4f9-abf1807def74",
   "metadata": {},
   "outputs": [
    {
     "data": {
      "image/png": "[encoded data removed]",
      "text/plain": [
       "<Figure size 432x288 with 1 Axes>"
      ]
     },
     "metadata": {
      "needs_background": "light"
     },
     "output_type": "display_data"
    },
    {
     "data": {
      "text/plain": [
       "<AxesSubplot:xlabel='Samples', ylabel='Counts'>"
      ]
     },
     "execution_count": 62,
     "metadata": {},
     "output_type": "execute_result"
    }
   ],
   "source": [
    "cntWords_without_stopwords.plot(20)"
   ]
  },
  {
   "cell_type": "code",
   "execution_count": null,
   "id": "ce244bff-ded6-481f-af16-50cb8dfcdde7",
   "metadata": {},
   "outputs": [],
   "source": []
  }
 ],
 "metadata": {
  "kernelspec": {
   "display_name": "Python 3",
   "language": "python",
   "name": "python3"
  },
  "language_info": {
   "codemirror_mode": {
    "name": "ipython",
    "version": 3
   },
   "file_extension": ".py",
   "mimetype": "text/x-python",
   "name": "python",
   "nbconvert_exporter": "python",
   "pygments_lexer": "ipython3",
   "version": "3.9.4"
  }
 },
 "nbformat": 4,
 "nbformat_minor": 5
}
