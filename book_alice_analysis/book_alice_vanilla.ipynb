{
 "cells": [
  {
   "cell_type": "markdown",
   "id": "1c534c4d-9a42-410c-817e-5e75d71b3322",
   "metadata": {},
   "source": [
    "# Aufgabe 1"
   ]
  },
  {
   "cell_type": "code",
   "execution_count": 4,
   "id": "b52e8b87-45b8-4992-b20d-d2d0b8fd5ccd",
   "metadata": {},
   "outputs": [],
   "source": [
    "f = open(\"./book_alice_analysis/alice.txt\", \"r\", encoding=\"utf-8-sig\")\n",
    "aliceText = f.read() # Einlesen der Datei\n",
    "f.close()"
   ]
  },
  {
   "cell_type": "code",
   "execution_count": 5,
   "id": "d98d4c96-4eb3-4704-a5f1-531230bd4acb",
   "metadata": {},
   "outputs": [
    {
     "name": "stdout",
     "output_type": "stream",
     "text": [
      "Alice’s Adventures in Wonderland\n",
      "\n",
      "by Lewis Carroll\n",
      "\n",
      "THE MILLENNIUM FULCRUM EDITION 3.0\n",
      "\n",
      "Contents\n",
      "\n",
      " C\n"
     ]
    }
   ],
   "source": [
    "print(aliceText[:100])"
   ]
  },
  {
   "cell_type": "code",
   "execution_count": null,
   "id": "a5fc42f0-bece-4654-8efc-18764be0a893",
   "metadata": {},
   "outputs": [],
   "source": []
  }
 ],
 "metadata": {
  "kernelspec": {
   "display_name": "Python 3",
   "language": "python",
   "name": "python3"
  },
  "language_info": {
   "codemirror_mode": {
    "name": "ipython",
    "version": 3
   },
   "file_extension": ".py",
   "mimetype": "text/x-python",
   "name": "python",
   "nbconvert_exporter": "python",
   "pygments_lexer": "ipython3",
   "version": "3.9.4"
  }
 },
 "nbformat": 4,
 "nbformat_minor": 5
}
