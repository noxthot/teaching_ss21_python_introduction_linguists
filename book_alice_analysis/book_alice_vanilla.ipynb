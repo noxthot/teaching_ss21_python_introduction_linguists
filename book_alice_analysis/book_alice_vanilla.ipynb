{
 "cells": [
  {
   "cell_type": "markdown",
   "id": "656446f8",
   "metadata": {},
   "source": [
    "### Aufgabe 2"
   ]
  },
  {
   "cell_type": "code",
   "execution_count": 1,
   "id": "153b3d06",
   "metadata": {},
   "outputs": [],
   "source": [
    "# download alice.txt as plain text from gutenberg project: https://www.gutenberg.org/ebooks/11\n",
    "# (also remove text lines in the beginning and end which do not belong to the book)\n",
    "f = open(\"alice.txt\", \"r\", encoding=\"utf-8-sig\")\n",
    "aliceText = f.read() # Einlesen der Datei\n",
    "f.close()"
   ]
  },
  {
   "cell_type": "markdown",
   "id": "33f7aa05-801d-4aac-8f84-e1c7898a8ef7",
   "metadata": {},
   "source": [
    "### Aufgabe 3"
   ]
  },
  {
   "cell_type": "code",
   "execution_count": 2,
   "id": "c620c939",
   "metadata": {},
   "outputs": [
    {
     "name": "stdout",
     "output_type": "stream",
     "text": [
      "Alice’s Adventures in Wonderland\n",
      "\n",
      "by Lewis Carroll\n",
      "\n",
      "THE MILLENNIUM FULCRUM EDITION 3.0\n",
      "\n",
      "Contents\n",
      "\n",
      " CHAPTER I.     Down the Rabbit-Hole\n",
      " CHAPTER II.    The Pool of Tears\n",
      " CHAPTER III.   A Caucus-Race and a Long Tale\n",
      " CHAPTER IV.    The Rabbit Sends in a Little Bill\n",
      " CHAPTER V.     Advice from a Caterpillar\n",
      " CHAPTER VI.    Pig and Pepper\n",
      " CHAPTER VII.   A Mad Tea-Party\n",
      " CHAPTER VIII.  The Queen’s Croquet-Ground\n",
      " CHAPTER IX.    The Mock Turtle’s Story\n",
      " CHAPTER X.     The Lobster Quadrille\n",
      " CHAPTER XI.    Who Stole the Tarts?\n",
      " CHAPTER XII.   Alice’s Evidence\n",
      "\n",
      "\n",
      "\n",
      "\n",
      "CHAPTER I.\n",
      "Down the Rabbit-Hole\n",
      "\n",
      "\n",
      "Alice was beginning to get very tired of sitting by her sister on the\n",
      "bank, and of having nothing to do: once or twice she had peeped into\n",
      "the book her sister was reading, but it had no pictures or\n",
      "conversations in it, “and what is the use of a book,” thought Alice\n",
      "“without pictures or conversations?”\n",
      "\n",
      "So she was considering in her own mind (as well as she could, for the\n",
      "hot day made her feel very \n"
     ]
    }
   ],
   "source": [
    "print(aliceText[:1000])"
   ]
  },
  {
   "cell_type": "code",
   "execution_count": 3,
   "id": "4d430eba",
   "metadata": {},
   "outputs": [
    {
     "name": "stdout",
     "output_type": "stream",
     "text": [
      "\n",
      "wind, and the pool rippling to the waving of the reeds—the rattling\n",
      "teacups would change to tinkling sheep-bells, and the Queen’s shrill\n",
      "cries to the voice of the shepherd boy—and the sneeze of the baby, the\n",
      "shriek of the Gryphon, and all the other queer noises, would change\n",
      "(she knew) to the confused clamour of the busy farm-yard—while the\n",
      "lowing of the cattle in the distance would take the place of the Mock\n",
      "Turtle’s heavy sobs.\n",
      "\n",
      "Lastly, she pictured to herself how this same little sister of hers\n",
      "would, in the after-time, be herself a grown woman; and how she would\n",
      "keep, through all her riper years, the simple and loving heart of her\n",
      "childhood: and how she would gather about her other little children,\n",
      "and make _their_ eyes bright and eager with many a strange tale,\n",
      "perhaps even with the dream of Wonderland of long ago: and how she\n",
      "would feel with all their simple sorrows, and find a pleasure in all\n",
      "their simple joys, remembering her own child-life, and the happy summer\n",
      "days.\n",
      "\n",
      "THE END\n"
     ]
    }
   ],
   "source": [
    "print(aliceText[-1000:])"
   ]
  },
  {
   "cell_type": "markdown",
   "id": "99cc6360-4351-4c74-9a7a-28922d8ca80c",
   "metadata": {},
   "source": [
    "### Aufgabe 4"
   ]
  },
  {
   "cell_type": "code",
   "execution_count": 17,
   "id": "d561e4f9-a9bc-4052-9144-0002fa465d0d",
   "metadata": {},
   "outputs": [],
   "source": [
    "tokens = aliceText.lower().split()"
   ]
  },
  {
   "cell_type": "markdown",
   "id": "503a202a-f7d4-4747-b260-bffcc4b7e341",
   "metadata": {},
   "source": [
    "### Aufgabe 5"
   ]
  },
  {
   "cell_type": "code",
   "execution_count": 18,
   "id": "1762bb76-892a-48e3-9778-967477dfcb3a",
   "metadata": {},
   "outputs": [],
   "source": [
    "import collections\n",
    "cntWords = collections.Counter(tokens)"
   ]
  },
  {
   "cell_type": "code",
   "execution_count": 23,
   "id": "b51ebe35-dbaa-4f23-abbc-5f2e09802e66",
   "metadata": {},
   "outputs": [
    {
     "data": {
      "text/plain": [
       "[('the', 1612),\n",
       " ('and', 767),\n",
       " ('to', 706),\n",
       " ('a', 619),\n",
       " ('she', 518),\n",
       " ('of', 494),\n",
       " ('said', 420),\n",
       " ('it', 362),\n",
       " ('in', 351),\n",
       " ('was', 328),\n",
       " ('you', 257),\n",
       " ('as', 249),\n",
       " ('i', 249),\n",
       " ('alice', 221),\n",
       " ('that', 216),\n",
       " ('her', 207),\n",
       " ('at', 204),\n",
       " ('had', 176),\n",
       " ('with', 170),\n",
       " ('all', 154),\n",
       " ('on', 142),\n",
       " ('be', 138),\n",
       " ('for', 135),\n",
       " ('very', 126),\n",
       " ('so', 126),\n",
       " ('little', 120),\n",
       " ('“i', 119),\n",
       " ('they', 117),\n",
       " ('but', 116),\n",
       " ('he', 108),\n",
       " ('not', 103),\n",
       " ('this', 101),\n",
       " ('out', 97),\n",
       " ('his', 94),\n",
       " ('what', 89),\n",
       " ('about', 84),\n",
       " ('were', 82),\n",
       " ('up', 81),\n",
       " ('down', 79),\n",
       " ('went', 79),\n",
       " ('one', 78),\n",
       " ('alice,', 76),\n",
       " ('like', 75),\n",
       " ('when', 73),\n",
       " ('have', 73),\n",
       " ('if', 72),\n",
       " ('would', 71),\n",
       " ('or', 68),\n",
       " ('into', 67),\n",
       " ('no', 66)]"
      ]
     },
     "execution_count": 23,
     "metadata": {},
     "output_type": "execute_result"
    }
   ],
   "source": [
    "cntWords.most_common(50)"
   ]
  },
  {
   "cell_type": "markdown",
   "id": "4a17a0e8-03ed-4258-b76f-c25f85f77052",
   "metadata": {},
   "source": [
    "### Aufgabe 6\n",
    "Probleme: Satzzeichen; Elemente wie \"we're\" müssten zwei Tokens sein, sind aber nur einer; ...\n",
    "Lösung: Satzzeichen können mit Python-Bordmitteln (mühsam) entfernt werden; Tokens richtig splitten ist deutlich schwieriger. Gibt es dafür ein Paket? -> Suche ergibt nltk und spacy"
   ]
  },
  {
   "cell_type": "code",
   "execution_count": null,
   "id": "04b86736-5558-41a2-9673-d990ca640f71",
   "metadata": {},
   "outputs": [],
   "source": []
  }
 ],
 "metadata": {
  "kernelspec": {
   "display_name": "Python 3",
   "language": "python",
   "name": "python3"
  },
  "language_info": {
   "codemirror_mode": {
    "name": "ipython",
    "version": 3
   },
   "file_extension": ".py",
   "mimetype": "text/x-python",
   "name": "python",
   "nbconvert_exporter": "python",
   "pygments_lexer": "ipython3",
   "version": "3.9.4"
  }
 },
 "nbformat": 4,
 "nbformat_minor": 5
}
