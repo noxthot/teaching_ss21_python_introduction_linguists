{
 "cells": [
  {
   "cell_type": "markdown",
   "metadata": {},
   "source": [
    "# Aufgabe 1"
   ]
  },
  {
   "cell_type": "code",
   "execution_count": 8,
   "metadata": {},
   "outputs": [],
   "source": [
    "# download alice.txt as plain text from gutenberg project: https://www.gutenberg.org/ebooks/11\n",
    "# (also remove text lines in the beginning and end which do not belong to the book)\n",
    "f = open(\"alice.txt\", \"r\", encoding=\"utf-8-sig\")\n",
    "aliceText = f.read() # Einlesen der Datei\n",
    "f.close()"
   ]
  },
  {
   "cell_type": "code",
   "execution_count": 9,
   "metadata": {},
   "outputs": [
    {
     "name": "stdout",
     "output_type": "stream",
     "text": [
      "Alice’s Adventures in Wonderland\n",
      "\n",
      "by Lewis Carroll\n",
      "\n",
      "THE MILLENNIUM FULCRUM EDITION 3.0\n",
      "\n",
      "Contents\n",
      "\n",
      " CHAPTER I.     Down the Rabbit-Hole\n",
      " CHAPTER II.    The Pool of Tears\n",
      " CHAPTER III.   A Caucus-Race and a Long Tale\n",
      " CHAPTER IV.    The Rabbit Sends in a Little Bill\n",
      " CHAPTER V.     Advice from a Caterpillar\n",
      " CHAPTER VI.    Pig and Pepper\n",
      " CHAPTER VII.   A Mad Tea-Party\n",
      " CHAPTER VIII.  The Queen’s Croquet-Ground\n",
      " CHAPTER IX.    The Mock Turtle’s Story\n",
      " CHAPTER X.     The Lobster Quadrille\n",
      " CHAPTER XI.    Who Stole the Tarts?\n",
      " CHAPTER XII.   Alice’s Evidence\n",
      "\n",
      "\n",
      "\n",
      "\n",
      "CHAPTER I.\n",
      "Down the Rabbit-Hole\n",
      "\n",
      "\n",
      "Alice was beginning to get very tired of sitting by her sister on the\n",
      "bank, and of having nothing to do: once or twice she had peeped into\n",
      "the book her sister was reading, but it had no pictures or\n",
      "conversations in it, “and what is the use of a book,” thought Alice\n",
      "“without pictures or conversations?”\n",
      "\n",
      "So she was considering in her own mind (as well as she could, for the\n",
      "hot day made her feel very \n"
     ]
    }
   ],
   "source": [
    "print(aliceText[:1000])"
   ]
  },
  {
   "cell_type": "code",
   "execution_count": 10,
   "metadata": {},
   "outputs": [
    {
     "name": "stdout",
     "output_type": "stream",
     "text": [
      "\n",
      "wind, and the pool rippling to the waving of the reeds—the rattling\n",
      "teacups would change to tinkling sheep-bells, and the Queen’s shrill\n",
      "cries to the voice of the shepherd boy—and the sneeze of the baby, the\n",
      "shriek of the Gryphon, and all the other queer noises, would change\n",
      "(she knew) to the confused clamour of the busy farm-yard—while the\n",
      "lowing of the cattle in the distance would take the place of the Mock\n",
      "Turtle’s heavy sobs.\n",
      "\n",
      "Lastly, she pictured to herself how this same little sister of hers\n",
      "would, in the after-time, be herself a grown woman; and how she would\n",
      "keep, through all her riper years, the simple and loving heart of her\n",
      "childhood: and how she would gather about her other little children,\n",
      "and make _their_ eyes bright and eager with many a strange tale,\n",
      "perhaps even with the dream of Wonderland of long ago: and how she\n",
      "would feel with all their simple sorrows, and find a pleasure in all\n",
      "their simple joys, remembering her own child-life, and the happy summer\n",
      "days.\n",
      "\n",
      "THE END\n"
     ]
    }
   ],
   "source": [
    "print(aliceText[-1000:])"
   ]
  },
  {
   "cell_type": "code",
   "execution_count": null,
   "metadata": {},
   "outputs": [],
   "source": []
  }
 ],
 "metadata": {
  "kernelspec": {
   "display_name": "Python 3",
   "language": "python",
   "name": "python3"
  },
  "language_info": {
   "codemirror_mode": {
    "name": "ipython",
    "version": 3
   },
   "file_extension": ".py",
   "mimetype": "text/x-python",
   "name": "python",
   "nbconvert_exporter": "python",
   "pygments_lexer": "ipython3",
   "version": "3.8.5"
  }
 },
 "nbformat": 4,
 "nbformat_minor": 5
}
